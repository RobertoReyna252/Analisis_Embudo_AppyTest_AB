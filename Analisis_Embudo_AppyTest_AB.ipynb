{
 "cells": [
  {
   "cell_type": "markdown",
   "metadata": {},
   "source": [
    "# Descripción del proyecto\n",
    "Trabajas en una empresa emergente que vende productos alimenticios. Debes investigar el comportamiento del usuario para la aplicación de la empresa.\n",
    "\n",
    "Primero, estudia el embudo de ventas. Descubre cómo los usuarios y las usuarias llegan a la etapa de compra. ¿Cuántos usuarios o usuarias realmente llegan a esta etapa? ¿Cuántos se atascan en etapas anteriores? ¿Qué etapas en particular?\n",
    "\n",
    "Luego, observa los resultados de un test A/A/B. (Sigue leyendo para obtener más información sobre los test A/A/B). Al equipo de diseño le gustaría cambiar las fuentes de toda la aplicación, pero la gerencia teme que los usuarios y las usuarias piensen que el nuevo diseño es intimidante. Por ello, deciden tomar una decisión basada en los resultados de un test A/A/B.\n",
    "\n",
    "Los usuarios se dividen en tres grupos: dos grupos de control obtienen las fuentes antiguas y un grupo de prueba obtiene las nuevas. Descubre qué conjunto de fuentes produce mejores resultados.\n",
    "\n",
    "Crear dos grupos A tiene ciertas ventajas. Podemos establecer el principio de que solo confiaremos en la exactitud de nuestras pruebas cuando los dos grupos de control sean similares. Si hay diferencias significativas entre los grupos A, esto puede ayudarnos a descubrir factores que pueden estar distorsionando los resultados. La comparación de grupos de control también nos dice cuánto tiempo y datos necesitaremos cuando realicemos más tests.\n",
    "\n",
    "Utilizarás el mismo dataset para el análisis general y para el análisis A/A/B. En proyectos reales, los experimentos se llevan a cabo constantemente. El equipo de análisis estudia la calidad de una aplicación utilizando datos generales, sin prestar atención a si los usuarios y las usuarias participan en experimentos.\n",
    "\n",
    "# Descripción de los datos\n",
    "Cada entrada de registro es una acción de usuario o un evento.\n",
    "\n",
    "EventName: nombre del evento.\n",
    "\n",
    "DeviceIDHash: identificador de usuario unívoco.\n",
    "\n",
    "EventTimestamp: hora del evento.\n",
    "\n",
    "ExpId: número de experimento: 246 y 247 son los grupos de control, 248 es el grupo de prueba.\n"
   ]
  },
  {
   "cell_type": "markdown",
   "metadata": {},
   "source": [
    "## Paso 1. Abrir el archivo de datos y leer la información general"
   ]
  },
  {
   "cell_type": "code",
   "execution_count": 1,
   "metadata": {},
   "outputs": [],
   "source": [
    "import pandas as pd\n",
    "import seaborn as sns\n",
    "import matplotlib.pyplot as plt\n",
    "from scipy.stats import ttest_ind\n",
    "from statsmodels.stats.proportion import proportions_ztest\n",
    "import numpy as np"
   ]
  },
  {
   "cell_type": "code",
   "execution_count": 2,
   "metadata": {},
   "outputs": [],
   "source": [
    "df = pd.read_csv(\"/datasets/logs_exp_us.csv\", delimiter='\\t')"
   ]
  },
  {
   "cell_type": "code",
   "execution_count": 3,
   "metadata": {},
   "outputs": [
    {
     "name": "stdout",
     "output_type": "stream",
     "text": [
      "<class 'pandas.core.frame.DataFrame'>\n",
      "RangeIndex: 244126 entries, 0 to 244125\n",
      "Data columns (total 4 columns):\n",
      " #   Column          Non-Null Count   Dtype \n",
      "---  ------          --------------   ----- \n",
      " 0   EventName       244126 non-null  object\n",
      " 1   DeviceIDHash    244126 non-null  int64 \n",
      " 2   EventTimestamp  244126 non-null  int64 \n",
      " 3   ExpId           244126 non-null  int64 \n",
      "dtypes: int64(3), object(1)\n",
      "memory usage: 7.5+ MB\n"
     ]
    }
   ],
   "source": [
    "df.info()"
   ]
  },
  {
   "cell_type": "markdown",
   "metadata": {},
   "source": [
    "## Paso 2. Preparar los datos para el análisis"
   ]
  },
  {
   "cell_type": "code",
   "execution_count": 4,
   "metadata": {},
   "outputs": [],
   "source": [
    "# Cambiar nombres de las columnas\n",
    "df.columns = ['event_name', 'device_id', 'event_timestamp', 'exp_id']"
   ]
  },
  {
   "cell_type": "code",
   "execution_count": 5,
   "metadata": {},
   "outputs": [
    {
     "name": "stdout",
     "output_type": "stream",
     "text": [
      "event_name         0\n",
      "device_id          0\n",
      "event_timestamp    0\n",
      "exp_id             0\n",
      "dtype: int64\n"
     ]
    }
   ],
   "source": [
    "# Comprobar valores ausentes\n",
    "print(df.isnull().sum())"
   ]
  },
  {
   "cell_type": "code",
   "execution_count": 6,
   "metadata": {},
   "outputs": [
    {
     "data": {
      "text/html": [
       "<div>\n",
       "<style scoped>\n",
       "    .dataframe tbody tr th:only-of-type {\n",
       "        vertical-align: middle;\n",
       "    }\n",
       "\n",
       "    .dataframe tbody tr th {\n",
       "        vertical-align: top;\n",
       "    }\n",
       "\n",
       "    .dataframe thead th {\n",
       "        text-align: right;\n",
       "    }\n",
       "</style>\n",
       "<table border=\"1\" class=\"dataframe\">\n",
       "  <thead>\n",
       "    <tr style=\"text-align: right;\">\n",
       "      <th></th>\n",
       "      <th>event_name</th>\n",
       "      <th>device_id</th>\n",
       "      <th>event_timestamp</th>\n",
       "      <th>exp_id</th>\n",
       "    </tr>\n",
       "  </thead>\n",
       "  <tbody>\n",
       "    <tr>\n",
       "      <th>0</th>\n",
       "      <td>MainScreenAppear</td>\n",
       "      <td>4575588528974610257</td>\n",
       "      <td>1564029816</td>\n",
       "      <td>246</td>\n",
       "    </tr>\n",
       "    <tr>\n",
       "      <th>1</th>\n",
       "      <td>MainScreenAppear</td>\n",
       "      <td>7416695313311560658</td>\n",
       "      <td>1564053102</td>\n",
       "      <td>246</td>\n",
       "    </tr>\n",
       "    <tr>\n",
       "      <th>2</th>\n",
       "      <td>PaymentScreenSuccessful</td>\n",
       "      <td>3518123091307005509</td>\n",
       "      <td>1564054127</td>\n",
       "      <td>248</td>\n",
       "    </tr>\n",
       "    <tr>\n",
       "      <th>3</th>\n",
       "      <td>CartScreenAppear</td>\n",
       "      <td>3518123091307005509</td>\n",
       "      <td>1564054127</td>\n",
       "      <td>248</td>\n",
       "    </tr>\n",
       "    <tr>\n",
       "      <th>4</th>\n",
       "      <td>PaymentScreenSuccessful</td>\n",
       "      <td>6217807653094995999</td>\n",
       "      <td>1564055322</td>\n",
       "      <td>248</td>\n",
       "    </tr>\n",
       "  </tbody>\n",
       "</table>\n",
       "</div>"
      ],
      "text/plain": [
       "                event_name            device_id  event_timestamp  exp_id\n",
       "0         MainScreenAppear  4575588528974610257       1564029816     246\n",
       "1         MainScreenAppear  7416695313311560658       1564053102     246\n",
       "2  PaymentScreenSuccessful  3518123091307005509       1564054127     248\n",
       "3         CartScreenAppear  3518123091307005509       1564054127     248\n",
       "4  PaymentScreenSuccessful  6217807653094995999       1564055322     248"
      ]
     },
     "execution_count": 6,
     "metadata": {},
     "output_type": "execute_result"
    }
   ],
   "source": [
    "df.head()"
   ]
  },
  {
   "cell_type": "code",
   "execution_count": 7,
   "metadata": {},
   "outputs": [
    {
     "data": {
      "text/html": [
       "<div>\n",
       "<style scoped>\n",
       "    .dataframe tbody tr th:only-of-type {\n",
       "        vertical-align: middle;\n",
       "    }\n",
       "\n",
       "    .dataframe tbody tr th {\n",
       "        vertical-align: top;\n",
       "    }\n",
       "\n",
       "    .dataframe thead th {\n",
       "        text-align: right;\n",
       "    }\n",
       "</style>\n",
       "<table border=\"1\" class=\"dataframe\">\n",
       "  <thead>\n",
       "    <tr style=\"text-align: right;\">\n",
       "      <th></th>\n",
       "      <th>event_name</th>\n",
       "      <th>device_id</th>\n",
       "      <th>event_timestamp</th>\n",
       "      <th>exp_id</th>\n",
       "    </tr>\n",
       "  </thead>\n",
       "  <tbody>\n",
       "    <tr>\n",
       "      <th>0</th>\n",
       "      <td>MainScreenAppear</td>\n",
       "      <td>4575588528974610257</td>\n",
       "      <td>2019-07-25 04:43:36</td>\n",
       "      <td>246</td>\n",
       "    </tr>\n",
       "    <tr>\n",
       "      <th>1</th>\n",
       "      <td>MainScreenAppear</td>\n",
       "      <td>7416695313311560658</td>\n",
       "      <td>2019-07-25 11:11:42</td>\n",
       "      <td>246</td>\n",
       "    </tr>\n",
       "    <tr>\n",
       "      <th>2</th>\n",
       "      <td>PaymentScreenSuccessful</td>\n",
       "      <td>3518123091307005509</td>\n",
       "      <td>2019-07-25 11:28:47</td>\n",
       "      <td>248</td>\n",
       "    </tr>\n",
       "    <tr>\n",
       "      <th>3</th>\n",
       "      <td>CartScreenAppear</td>\n",
       "      <td>3518123091307005509</td>\n",
       "      <td>2019-07-25 11:28:47</td>\n",
       "      <td>248</td>\n",
       "    </tr>\n",
       "    <tr>\n",
       "      <th>4</th>\n",
       "      <td>PaymentScreenSuccessful</td>\n",
       "      <td>6217807653094995999</td>\n",
       "      <td>2019-07-25 11:48:42</td>\n",
       "      <td>248</td>\n",
       "    </tr>\n",
       "  </tbody>\n",
       "</table>\n",
       "</div>"
      ],
      "text/plain": [
       "                event_name            device_id     event_timestamp  exp_id\n",
       "0         MainScreenAppear  4575588528974610257 2019-07-25 04:43:36     246\n",
       "1         MainScreenAppear  7416695313311560658 2019-07-25 11:11:42     246\n",
       "2  PaymentScreenSuccessful  3518123091307005509 2019-07-25 11:28:47     248\n",
       "3         CartScreenAppear  3518123091307005509 2019-07-25 11:28:47     248\n",
       "4  PaymentScreenSuccessful  6217807653094995999 2019-07-25 11:48:42     248"
      ]
     },
     "execution_count": 7,
     "metadata": {},
     "output_type": "execute_result"
    }
   ],
   "source": [
    "# Convertir 'event_timestamp' a datetime\n",
    "df['event_timestamp'] = pd.to_datetime(df['event_timestamp'], unit='s')\n",
    "df.head()"
   ]
  },
  {
   "cell_type": "code",
   "execution_count": 8,
   "metadata": {},
   "outputs": [
    {
     "data": {
      "text/html": [
       "<div>\n",
       "<style scoped>\n",
       "    .dataframe tbody tr th:only-of-type {\n",
       "        vertical-align: middle;\n",
       "    }\n",
       "\n",
       "    .dataframe tbody tr th {\n",
       "        vertical-align: top;\n",
       "    }\n",
       "\n",
       "    .dataframe thead th {\n",
       "        text-align: right;\n",
       "    }\n",
       "</style>\n",
       "<table border=\"1\" class=\"dataframe\">\n",
       "  <thead>\n",
       "    <tr style=\"text-align: right;\">\n",
       "      <th></th>\n",
       "      <th>event_name</th>\n",
       "      <th>device_id</th>\n",
       "      <th>event_timestamp</th>\n",
       "      <th>exp_id</th>\n",
       "      <th>date</th>\n",
       "      <th>time</th>\n",
       "    </tr>\n",
       "  </thead>\n",
       "  <tbody>\n",
       "    <tr>\n",
       "      <th>0</th>\n",
       "      <td>MainScreenAppear</td>\n",
       "      <td>4575588528974610257</td>\n",
       "      <td>2019-07-25 04:43:36</td>\n",
       "      <td>246</td>\n",
       "      <td>2019-07-25</td>\n",
       "      <td>04:43:36</td>\n",
       "    </tr>\n",
       "    <tr>\n",
       "      <th>1</th>\n",
       "      <td>MainScreenAppear</td>\n",
       "      <td>7416695313311560658</td>\n",
       "      <td>2019-07-25 11:11:42</td>\n",
       "      <td>246</td>\n",
       "      <td>2019-07-25</td>\n",
       "      <td>11:11:42</td>\n",
       "    </tr>\n",
       "    <tr>\n",
       "      <th>2</th>\n",
       "      <td>PaymentScreenSuccessful</td>\n",
       "      <td>3518123091307005509</td>\n",
       "      <td>2019-07-25 11:28:47</td>\n",
       "      <td>248</td>\n",
       "      <td>2019-07-25</td>\n",
       "      <td>11:28:47</td>\n",
       "    </tr>\n",
       "    <tr>\n",
       "      <th>3</th>\n",
       "      <td>CartScreenAppear</td>\n",
       "      <td>3518123091307005509</td>\n",
       "      <td>2019-07-25 11:28:47</td>\n",
       "      <td>248</td>\n",
       "      <td>2019-07-25</td>\n",
       "      <td>11:28:47</td>\n",
       "    </tr>\n",
       "    <tr>\n",
       "      <th>4</th>\n",
       "      <td>PaymentScreenSuccessful</td>\n",
       "      <td>6217807653094995999</td>\n",
       "      <td>2019-07-25 11:48:42</td>\n",
       "      <td>248</td>\n",
       "      <td>2019-07-25</td>\n",
       "      <td>11:48:42</td>\n",
       "    </tr>\n",
       "  </tbody>\n",
       "</table>\n",
       "</div>"
      ],
      "text/plain": [
       "                event_name            device_id     event_timestamp  exp_id  \\\n",
       "0         MainScreenAppear  4575588528974610257 2019-07-25 04:43:36     246   \n",
       "1         MainScreenAppear  7416695313311560658 2019-07-25 11:11:42     246   \n",
       "2  PaymentScreenSuccessful  3518123091307005509 2019-07-25 11:28:47     248   \n",
       "3         CartScreenAppear  3518123091307005509 2019-07-25 11:28:47     248   \n",
       "4  PaymentScreenSuccessful  6217807653094995999 2019-07-25 11:48:42     248   \n",
       "\n",
       "         date      time  \n",
       "0  2019-07-25  04:43:36  \n",
       "1  2019-07-25  11:11:42  \n",
       "2  2019-07-25  11:28:47  \n",
       "3  2019-07-25  11:28:47  \n",
       "4  2019-07-25  11:48:42  "
      ]
     },
     "execution_count": 8,
     "metadata": {},
     "output_type": "execute_result"
    }
   ],
   "source": [
    "# Crear columnas separadas para fecha y hora\n",
    "df['date'] = df['event_timestamp'].dt.date\n",
    "df['time'] = df['event_timestamp'].dt.time\n",
    "df.head()"
   ]
  },
  {
   "cell_type": "markdown",
   "metadata": {},
   "source": [
    "## Paso 3. Estudiar y comprobar los datos"
   ]
  },
  {
   "cell_type": "markdown",
   "metadata": {},
   "source": [
    "### ¿Cuántos eventos hay en los registros?"
   ]
  },
  {
   "cell_type": "code",
   "execution_count": 9,
   "metadata": {},
   "outputs": [
    {
     "name": "stdout",
     "output_type": "stream",
     "text": [
      "Número total de eventos: 244126\n",
      "Número de eventos únicos: 5\n"
     ]
    }
   ],
   "source": [
    "# Contar el número total de eventos\n",
    "total_events = len(df)\n",
    "\n",
    "# Contar el número de eventos únicos\n",
    "unique_events = df['event_name'].nunique()\n",
    "\n",
    "# Mostrar los resultados\n",
    "print(f\"Número total de eventos: {total_events}\")\n",
    "print(f\"Número de eventos únicos: {unique_events}\")\n"
   ]
  },
  {
   "cell_type": "markdown",
   "metadata": {},
   "source": [
    "### ¿Cuántos usuarios y usuarias hay en los registros?"
   ]
  },
  {
   "cell_type": "code",
   "execution_count": 10,
   "metadata": {},
   "outputs": [
    {
     "name": "stdout",
     "output_type": "stream",
     "text": [
      "Número de usuarios únicos: 7551\n"
     ]
    }
   ],
   "source": [
    "# Contar el número de usuarios únicos\n",
    "unique_users = df['device_id'].nunique()\n",
    "\n",
    "# Mostrar el resultado\n",
    "print(f\"Número de usuarios únicos: {unique_users}\")\n"
   ]
  },
  {
   "cell_type": "markdown",
   "metadata": {},
   "source": [
    "### ¿Cuál es el promedio de eventos por usuario?"
   ]
  },
  {
   "cell_type": "code",
   "execution_count": 11,
   "metadata": {},
   "outputs": [
    {
     "name": "stdout",
     "output_type": "stream",
     "text": [
      "Promedio de eventos por usuario: 32.33\n"
     ]
    }
   ],
   "source": [
    "# Calcular el promedio de eventos por usuario\n",
    "average_events_per_user = total_events / unique_users\n",
    "\n",
    "# Mostrar el resultado\n",
    "print(f\"Promedio de eventos por usuario: {average_events_per_user:.2f}\")"
   ]
  },
  {
   "cell_type": "markdown",
   "metadata": {},
   "source": [
    "### ¿Qué periodo de tiempo cubren los datos? Encuentra la fecha máxima y mínima."
   ]
  },
  {
   "cell_type": "code",
   "execution_count": 12,
   "metadata": {},
   "outputs": [
    {
     "name": "stdout",
     "output_type": "stream",
     "text": [
      "Fecha mínima: 2019-07-25 04:43:36\n",
      "Fecha máxima: 2019-08-07 21:15:17\n"
     ]
    }
   ],
   "source": [
    "# Encontrar la fecha mínima y máxima\n",
    "min_date = df['event_timestamp'].min()\n",
    "max_date = df['event_timestamp'].max()\n",
    "\n",
    "# Mostrar las fechas\n",
    "print(f\"Fecha mínima: {min_date}\")\n",
    "print(f\"Fecha máxima: {max_date}\")\n"
   ]
  },
  {
   "cell_type": "markdown",
   "metadata": {},
   "source": [
    "### histograma por fecha y hora"
   ]
  },
  {
   "cell_type": "code",
   "execution_count": 13,
   "metadata": {},
   "outputs": [
    {
     "data": {
      "image/png": "[encoded data removed]",
      "text/plain": [
       "<Figure size 1200x600 with 1 Axes>"
      ]
     },
     "metadata": {},
     "output_type": "display_data"
    },
    {
     "data": {
      "image/png": "[encoded data removed]",
      "text/plain": [
       "<Figure size 1200x600 with 1 Axes>"
      ]
     },
     "metadata": {},
     "output_type": "display_data"
    }
   ],
   "source": [
    "# Crear una columna de solo fechas para el histograma\n",
    "df['date'] = df['event_timestamp'].dt.date\n",
    "\n",
    "# Trazar un histograma de eventos por fecha\n",
    "plt.style.use('seaborn')\n",
    "plt.figure(figsize=(12, 6))\n",
    "sns.histplot(df['date'], bins=30)\n",
    "plt.title('Histograma de eventos por fecha')\n",
    "plt.xlabel('Fecha')\n",
    "plt.ylabel('Número de eventos')\n",
    "plt.xticks(rotation=45)\n",
    "plt.show()\n",
    "\n",
    "# Crear una columna de solo horas para el histograma\n",
    "df['hour'] = df['event_timestamp'].dt.hour\n",
    "\n",
    "# Trazar un histograma de eventos por hora\n",
    "plt.figure(figsize=(12, 6))\n",
    "sns.histplot(df['hour'], bins=24, kde=True)\n",
    "plt.title('Histograma de eventos por hora')\n",
    "plt.xlabel('Hora del día')\n",
    "plt.ylabel('Número de eventos')\n",
    "plt.xticks(rotation=45)\n",
    "plt.show()\n"
   ]
  },
  {
   "cell_type": "markdown",
   "metadata": {},
   "source": [
    "### ¿Puedes tener seguridad de que tienes datos igualmente completos para todo el periodo?\n",
    "\n",
    "#### Periodo de tiempo cubierto por los datos:\n",
    "\n",
    "Fecha mínima: 2019-07-25 04:43:36\n",
    "Fecha máxima: 2019-08-07 21:15:17\n",
    "\n",
    "#### Evaluación de la completitud de los datos:\n",
    "\n",
    "Los histogramas muestran que los datos no están igualmente completos para todo el periodo. Los datos empiezan a ser consistentes a partir del 2019-08-01."
   ]
  },
  {
   "cell_type": "markdown",
   "metadata": {},
   "source": [
    "### Los eventos más antiguos podrían terminar en los registros de algunos usuarios o usuarias por razones técnicas y esto podría sesgar el panorama general. Encuentra el momento en el que los datos comienzan a estar completos e ignora la sección anterior. ¿Qué periodo representan realmente los datos?"
   ]
  },
  {
   "cell_type": "code",
   "execution_count": 14,
   "metadata": {},
   "outputs": [
    {
     "name": "stdout",
     "output_type": "stream",
     "text": [
      "Fecha mínima de datos completos: 2019-08-01 00:07:28\n",
      "Fecha máxima de datos completos: 2019-08-07 21:15:17\n",
      "Número total de eventos (datos completos): 241298\n",
      "Número de usuarios únicos (datos completos): 7534\n",
      "Promedio de eventos por usuario (datos completos): 32.03\n"
     ]
    }
   ],
   "source": [
    "# Filtrar los datos para obtener solo los datos completos a partir del 2019-08-01\n",
    "complete_data_start_date = pd.Timestamp('2019-08-01')\n",
    "df_complete = df[df['event_timestamp'] >= complete_data_start_date]\n",
    "\n",
    "# Encontrar la nueva fecha mínima y máxima para los datos completos\n",
    "min_date_complete = df_complete['event_timestamp'].min()\n",
    "max_date_complete = df_complete['event_timestamp'].max()\n",
    "\n",
    "# Mostrar las nuevas fechas\n",
    "print(f\"Fecha mínima de datos completos: {min_date_complete}\")\n",
    "print(f\"Fecha máxima de datos completos: {max_date_complete}\")\n",
    "\n",
    "# Contar el número total de eventos en los datos completos\n",
    "total_events_complete = len(df_complete)\n",
    "\n",
    "# Contar el número de usuarios únicos en los datos completos\n",
    "unique_users_complete = df_complete['device_id'].nunique()\n",
    "\n",
    "# Calcular el promedio de eventos por usuario en los datos completos\n",
    "average_events_per_user_complete = total_events_complete / unique_users_complete\n",
    "\n",
    "# Mostrar los resultados\n",
    "print(f\"Número total de eventos (datos completos): {total_events_complete}\")\n",
    "print(f\"Número de usuarios únicos (datos completos): {unique_users_complete}\")\n",
    "print(f\"Promedio de eventos por usuario (datos completos): {average_events_per_user_complete:.2f}\")"
   ]
  },
  {
   "cell_type": "markdown",
   "metadata": {},
   "source": [
    "### ¿Perdiste muchos eventos y usuarios al excluir los datos más antiguos?"
   ]
  },
  {
   "cell_type": "code",
   "execution_count": 15,
   "metadata": {},
   "outputs": [
    {
     "name": "stdout",
     "output_type": "stream",
     "text": [
      "Eventos perdidos: 2828\n",
      "Usuarios perdidos: 17\n",
      "Porcentaje de eventos perdidos: 1.16%\n",
      "Porcentaje de usuarios perdidos: 0.23%\n"
     ]
    }
   ],
   "source": [
    "# Resultados antes de filtrar\n",
    "total_events_before = 244126\n",
    "unique_users_before = 7551\n",
    "average_events_per_user_before = 32.33\n",
    "\n",
    "# Resultados después de filtrar\n",
    "total_events_after = 241298\n",
    "unique_users_after = 7534\n",
    "average_events_per_user_after = 32.03\n",
    "\n",
    "# Calcular la diferencia en número de eventos y usuarios\n",
    "events_lost = total_events_before - total_events_after\n",
    "users_lost = unique_users_before - unique_users_after\n",
    "\n",
    "# Mostrar la comparación\n",
    "print(f\"Eventos perdidos: {events_lost}\")\n",
    "print(f\"Usuarios perdidos: {users_lost}\")\n",
    "print(f\"Porcentaje de eventos perdidos: {events_lost / total_events_before * 100:.2f}%\")\n",
    "print(f\"Porcentaje de usuarios perdidos: {users_lost / unique_users_before * 100:.2f}%\")\n"
   ]
  },
  {
   "cell_type": "markdown",
   "metadata": {},
   "source": [
    "### Asegúrate de tener usuarios y usuarias de los tres grupos experimentales."
   ]
  },
  {
   "cell_type": "code",
   "execution_count": 16,
   "metadata": {},
   "outputs": [
    {
     "name": "stdout",
     "output_type": "stream",
     "text": [
      "Grupos experimentales presentes: [246 247 248]\n",
      "Conteo de usuarios en cada grupo experimental:\n",
      "248    84726\n",
      "246    79425\n",
      "247    77147\n",
      "Name: exp_id, dtype: int64\n"
     ]
    }
   ],
   "source": [
    "# Verificar la presencia de los tres grupos experimentales en los datos completos\n",
    "experimental_groups = df_complete['exp_id'].unique()\n",
    "\n",
    "# Mostrar los grupos experimentales presentes\n",
    "print(f\"Grupos experimentales presentes: {experimental_groups}\")\n",
    "\n",
    "# Verificar el conteo de usuarios en cada grupo experimental\n",
    "group_counts = df_complete['exp_id'].value_counts()\n",
    "\n",
    "# Mostrar el conteo de usuarios en cada grupo experimental\n",
    "print(\"Conteo de usuarios en cada grupo experimental:\")\n",
    "print(group_counts)\n"
   ]
  },
  {
   "cell_type": "markdown",
   "metadata": {},
   "source": [
    "## Paso 4. Estudiar el embudo de eventos"
   ]
  },
  {
   "cell_type": "markdown",
   "metadata": {},
   "source": [
    "### Observa qué eventos hay en los registros y su frecuencia de suceso. Ordénalos por frecuencia."
   ]
  },
  {
   "cell_type": "code",
   "execution_count": 17,
   "metadata": {},
   "outputs": [
    {
     "name": "stdout",
     "output_type": "stream",
     "text": [
      "Eventos ordenados por frecuencia:\n",
      "MainScreenAppear           117431\n",
      "OffersScreenAppear          46350\n",
      "CartScreenAppear            42365\n",
      "PaymentScreenSuccessful     34113\n",
      "Tutorial                     1039\n",
      "Name: event_name, dtype: int64\n"
     ]
    }
   ],
   "source": [
    "# Contar la frecuencia de cada evento en los datos completos\n",
    "event_frequencies = df_complete['event_name'].value_counts()\n",
    "\n",
    "# Ordenar los eventos por frecuencia\n",
    "event_frequencies_sorted = event_frequencies.sort_values(ascending=False)\n",
    "\n",
    "# Mostrar los eventos y su frecuencia\n",
    "print(\"Eventos ordenados por frecuencia:\")\n",
    "print(event_frequencies_sorted)\n"
   ]
  },
  {
   "cell_type": "markdown",
   "metadata": {},
   "source": [
    "### Encuentra la cantidad de usuarios y usuarias que realizaron cada una de estas acciones. Ordena los eventos por el número de usuarios y usuarias. Calcula la proporción de usuarios y usuarias que realizaron la acción al menos una vez."
   ]
  },
  {
   "cell_type": "code",
   "execution_count": 18,
   "metadata": {},
   "outputs": [
    {
     "name": "stdout",
     "output_type": "stream",
     "text": [
      "                event_name  unique_users  proportion_of_users\n",
      "0         MainScreenAppear          7419             0.984736\n",
      "1       OffersScreenAppear          4593             0.609636\n",
      "2         CartScreenAppear          3734             0.495620\n",
      "3  PaymentScreenSuccessful          3539             0.469737\n",
      "4                 Tutorial           840             0.111495\n"
     ]
    }
   ],
   "source": [
    "# Contar el número de usuarios únicos que realizaron cada evento\n",
    "users_per_event = df_complete.groupby('event_name')['device_id'].nunique()\n",
    "\n",
    "# Ordenar los eventos por el número de usuarios únicos\n",
    "users_per_event_sorted = users_per_event.sort_values(ascending=False)\n",
    "\n",
    "# Calcular la proporción de usuarios que realizaron la acción al menos una vez\n",
    "total_unique_users = df_complete['device_id'].nunique()\n",
    "proportion_per_event = users_per_event_sorted / total_unique_users\n",
    "\n",
    "# Crear un DataFrame para mostrar los resultados\n",
    "event_analysis = pd.DataFrame({\n",
    "    'event_name': users_per_event_sorted.index,\n",
    "    'unique_users': users_per_event_sorted.values,\n",
    "    'proportion_of_users': proportion_per_event.values\n",
    "})\n",
    "\n",
    "# Mostrar los resultados\n",
    "print(event_analysis)\n"
   ]
  },
  {
   "cell_type": "markdown",
   "metadata": {},
   "source": [
    "### ¿En qué orden crees que ocurrieron las acciones? ¿Todas son parte de una sola secuencia? No es necesario tenerlas en cuenta al calcular el embudo."
   ]
  },
  {
   "cell_type": "markdown",
   "metadata": {},
   "source": [
    "MainScreenAppear: Este evento probablemente ocurre cuando un usuario abre la aplicación y llega a la pantalla principal.\n",
    "\n",
    "OffersScreenAppear: Este evento podría ocurrir cuando un usuario navega a una sección de ofertas.\n",
    "\n",
    "CartScreenAppear: Este evento sucede cuando un usuario añade productos al carrito y luego va a la pantalla del carrito.\n",
    "\n",
    "PaymentScreenSuccessful: Este evento indica que un usuario ha completado con éxito una transacción.\n",
    "\n",
    "Tutorial: Este evento podría ocurrir en cualquier momento, especialmente para nuevos usuarios que interactúan con la aplicación por primera vez.\n",
    "\n",
    "\n",
    "\n",
    "#### Posible secuencia de eventos\n",
    "\n",
    "1- MainScreenAppear\n",
    "\n",
    "2- CartScreenAppear\n",
    "\n",
    "3- PaymentScreenSuccessful\n",
    "\n",
    "4- Tutorial (puede ocurrir en cualquier momento y no necesariamente forma parte de la secuencia principal de compra)\n",
    "\n",
    "#### Embudo de conversión\n",
    "Para calcular el embudo de conversión, vamos a considerar los eventos que son parte del proceso de compra:\n",
    "\n",
    "1- MainScreenAppear\n",
    "\n",
    "2- OffersScreenAppear\n",
    "\n",
    "3- CartScreenAppear\n",
    "\n",
    "4- PaymentScreenSuccessful"
   ]
  },
  {
   "cell_type": "code",
   "execution_count": 19,
   "metadata": {},
   "outputs": [
    {
     "name": "stdout",
     "output_type": "stream",
     "text": [
      "                event_name  unique_users  proportion_of_users\n",
      "0         MainScreenAppear          7419             0.984736\n",
      "1       OffersScreenAppear          4593             0.609636\n",
      "2         CartScreenAppear          3734             0.495620\n",
      "3  PaymentScreenSuccessful          3539             0.469737\n"
     ]
    }
   ],
   "source": [
    "# Ordenar los eventos según la probable secuencia\n",
    "event_sequence = ['MainScreenAppear', 'OffersScreenAppear', 'CartScreenAppear', 'PaymentScreenSuccessful']\n",
    "\n",
    "# Filtrar los eventos que están en la secuencia\n",
    "funnel_data = event_analysis[event_analysis['event_name'].isin(event_sequence)].copy()\n",
    "\n",
    "# Reordenar el DataFrame según la secuencia de eventos\n",
    "funnel_data['event_order'] = funnel_data['event_name'].apply(lambda x: event_sequence.index(x))\n",
    "funnel_data = funnel_data.sort_values('event_order').reset_index(drop=True)\n",
    "\n",
    "# Eliminar la columna 'event_order' ya que no es necesaria para mostrar los resultados\n",
    "funnel_data = funnel_data.drop(columns=['event_order'])\n",
    "\n",
    "# Mostrar el embudo de conversión\n",
    "print(funnel_data)\n"
   ]
  },
  {
   "cell_type": "markdown",
   "metadata": {},
   "source": [
    "### Utiliza el embudo de eventos para encontrar la proporción de usuarios y usuarias que pasan de una etapa a la siguiente. (Por ejemplo, para la secuencia de eventos A → B → C, calcula la proporción de usuarios en la etapa B a la cantidad de usuarios en la etapa A y la proporción de usuarios en la etapa C a la cantidad en la etapa B)."
   ]
  },
  {
   "cell_type": "code",
   "execution_count": 20,
   "metadata": {},
   "outputs": [
    {
     "name": "stdout",
     "output_type": "stream",
     "text": [
      "           from_stage                 to_stage  conversion_rate\n",
      "0    MainScreenAppear       OffersScreenAppear         0.619086\n",
      "1  OffersScreenAppear         CartScreenAppear         0.812976\n",
      "2    CartScreenAppear  PaymentScreenSuccessful         0.947777\n"
     ]
    }
   ],
   "source": [
    "# Crear una lista para almacenar las proporciones de conversión\n",
    "conversion_rates = []\n",
    "\n",
    "# Iterar sobre el embudo de conversión para calcular las proporciones\n",
    "for i in range(len(funnel_data) - 1):\n",
    "    current_stage_users = funnel_data.loc[i, 'unique_users']\n",
    "    next_stage_users = funnel_data.loc[i + 1, 'unique_users']\n",
    "    conversion_rate = next_stage_users / current_stage_users\n",
    "    conversion_rates.append(conversion_rate)\n",
    "\n",
    "# Crear un DataFrame para mostrar las proporciones de conversión\n",
    "stages = funnel_data['event_name'].tolist()\n",
    "conversion_data = {\n",
    "    'from_stage': stages[:-1],\n",
    "    'to_stage': stages[1:],\n",
    "    'conversion_rate': conversion_rates\n",
    "}\n",
    "conversion_df = pd.DataFrame(conversion_data)\n",
    "\n",
    "# Mostrar las proporciones de conversión\n",
    "print(conversion_df)\n"
   ]
  },
  {
   "cell_type": "markdown",
   "metadata": {},
   "source": [
    "### ¿En qué etapa pierdes más usuarios y usuarias?"
   ]
  },
  {
   "cell_type": "code",
   "execution_count": 21,
   "metadata": {},
   "outputs": [
    {
     "name": "stdout",
     "output_type": "stream",
     "text": [
      "Etapa con mayor pérdida de usuarios:\n",
      "from_stage           MainScreenAppear\n",
      "to_stage           OffersScreenAppear\n",
      "conversion_rate              0.619086\n",
      "Name: 0, dtype: object\n"
     ]
    }
   ],
   "source": [
    "# Encontrar la etapa con la tasa de conversión más baja\n",
    "lowest_conversion_stage = conversion_df.loc[conversion_df['conversion_rate'].idxmin()]\n",
    "\n",
    "# Mostrar la etapa con mayor pérdida de usuarios\n",
    "print(\"Etapa con mayor pérdida de usuarios:\")\n",
    "print(lowest_conversion_stage)\n"
   ]
  },
  {
   "cell_type": "markdown",
   "metadata": {},
   "source": [
    "### ¿Qué porcentaje de usuarios y usuarias hace todo el viaje desde su primer evento hasta el pago?"
   ]
  },
  {
   "cell_type": "code",
   "execution_count": 22,
   "metadata": {},
   "outputs": [
    {
     "name": "stdout",
     "output_type": "stream",
     "text": [
      "Porcentaje de usuarios que hacen todo el viaje desde el primer evento hasta el pago: 47.70%\n"
     ]
    }
   ],
   "source": [
    "# Obtener el número de usuarios que realizaron el primer evento y el evento final\n",
    "total_users_first_event = funnel_data.loc[funnel_data['event_name'] == 'MainScreenAppear', 'unique_users'].values[0]\n",
    "total_users_final_event = funnel_data.loc[funnel_data['event_name'] == 'PaymentScreenSuccessful', 'unique_users'].values[0]\n",
    "\n",
    "# Calcular la proporción de usuarios que completan todo el viaje\n",
    "completion_rate = total_users_final_event / total_users_first_event\n",
    "\n",
    "# Calcular el porcentaje\n",
    "completion_percentage = completion_rate * 100\n",
    "\n",
    "# Mostrar el porcentaje\n",
    "print(f\"Porcentaje de usuarios que hacen todo el viaje desde el primer evento hasta el pago: {completion_percentage:.2f}%\")\n"
   ]
  },
  {
   "cell_type": "markdown",
   "metadata": {},
   "source": [
    "## Paso 5. Estudiar los resultados del experimento"
   ]
  },
  {
   "cell_type": "markdown",
   "metadata": {},
   "source": [
    "### ¿Cuántos usuarios y usuarias hay en cada grupo?"
   ]
  },
  {
   "cell_type": "code",
   "execution_count": 23,
   "metadata": {},
   "outputs": [
    {
     "name": "stdout",
     "output_type": "stream",
     "text": [
      "Número de usuarios en cada grupo experimental:\n",
      "exp_id\n",
      "246    2484\n",
      "247    2513\n",
      "248    2537\n",
      "Name: device_id, dtype: int64\n"
     ]
    }
   ],
   "source": [
    "# Contar el número de usuarios únicos en cada grupo experimental\n",
    "users_per_group = df_complete.groupby('exp_id')['device_id'].nunique()\n",
    "\n",
    "# Mostrar el conteo de usuarios en cada grupo experimental\n",
    "print(\"Número de usuarios en cada grupo experimental:\")\n",
    "print(users_per_group)\n"
   ]
  },
  {
   "cell_type": "markdown",
   "metadata": {},
   "source": [
    "### Tenemos dos grupos de control en el test A/A, donde comprobamos nuestros mecanismos y cálculos. Observa si hay una diferencia estadísticamente significativa entre las muestras 246 y 247."
   ]
  },
  {
   "cell_type": "code",
   "execution_count": 24,
   "metadata": {},
   "outputs": [
    {
     "name": "stdout",
     "output_type": "stream",
     "text": [
      "Grupo 246: 48.31%\n",
      "Grupo 247: 46.08%\n",
      "z-statistic: 1.5779948491596598\n",
      "p-value: 0.11456679313141847\n"
     ]
    }
   ],
   "source": [
    "# Filtrar los datos para los eventos relevantes\n",
    "df_246 = df_complete[df_complete['exp_id'] == 246]\n",
    "df_247 = df_complete[df_complete['exp_id'] == 247]\n",
    "\n",
    "# Calcular el número de usuarios que realizaron \"PaymentScreenSuccessful\" en cada grupo\n",
    "success_246 = df_246[df_246['event_name'] == 'PaymentScreenSuccessful']['device_id'].nunique()\n",
    "success_247 = df_247[df_247['event_name'] == 'PaymentScreenSuccessful']['device_id'].nunique()\n",
    "\n",
    "# Calcular el número total de usuarios en cada grupo\n",
    "total_246 = df_246['device_id'].nunique()\n",
    "total_247 = df_247['device_id'].nunique()\n",
    "\n",
    "# Realizar el z-test de proporciones\n",
    "count = np.array([success_246, success_247])\n",
    "nobs = np.array([total_246, total_247])\n",
    "z_stat, p_value = proportions_ztest(count, nobs)\n",
    "\n",
    "# Mostrar los resultados\n",
    "conversion_246 = success_246 / total_246\n",
    "conversion_247 = success_247 / total_247\n",
    "\n",
    "print(f\"Grupo 246: {conversion_246 * 100:.2f}%\")\n",
    "print(f\"Grupo 247: {conversion_247 * 100:.2f}%\")\n",
    "print(f\"z-statistic: {z_stat}\")\n",
    "print(f\"p-value: {p_value}\")"
   ]
  },
  {
   "cell_type": "markdown",
   "metadata": {},
   "source": [
    "#### Evaluación de la Significancia Estadística\n",
    "El nivel de significancia comúnmente utilizado es α=0.05. Si el valor p es menor que α, rechazamos la hipótesis nula y concluimos que hay una diferencia estadísticamente significativa entre los grupos. Si el valor p es mayor que α, no rechazamos la hipótesis nula.\n",
    "\n",
    "#### Comparación con el Nivel de Significancia\n",
    "p-value: 0.11456679313141847\n",
    "Este valor p es mayor que α=0.05, lo que indica que:\n",
    "\n",
    "No hay evidencia suficiente para rechazar la hipótesis nula. \n",
    "\n",
    "La diferencia en las tasas de conversión entre los grupos 246 y 247 no es estadísticamente significativa."
   ]
  },
  {
   "cell_type": "markdown",
   "metadata": {},
   "source": [
    "### Selecciona el evento más popular. En cada uno de los grupos de control, encuentra la cantidad de usuarios y usuarias que realizaron esta acción. Encuentra su proporción. Comprueba si la diferencia entre los grupos es estadísticamente significativa. "
   ]
  },
  {
   "cell_type": "code",
   "execution_count": 25,
   "metadata": {},
   "outputs": [
    {
     "name": "stdout",
     "output_type": "stream",
     "text": [
      "Resultados para el evento más popular (MainScreenAppear):\n",
      "event_name: MainScreenAppear\n",
      "proportion_group1: 0.9863123993558777\n",
      "proportion_group2: 0.9852765618782332\n",
      "z_stat: 0.3093441851418436\n",
      "p_value: 0.7570597232046099\n"
     ]
    }
   ],
   "source": [
    "\n",
    "def test_event_proportion(event_name, df, group1, group2):\n",
    "    \"\"\"\n",
    "    Compara la proporción de usuarios que realizaron un evento específico entre dos grupos de control usando z-test de proporciones.\n",
    "    \n",
    "    Args:\n",
    "    event_name (str): El nombre del evento a analizar.\n",
    "    df (pd.DataFrame): El dataframe que contiene los datos.\n",
    "    group1 (int): El ID del primer grupo de control.\n",
    "    group2 (int): El ID del segundo grupo de control.\n",
    "    \n",
    "    Returns:\n",
    "    dict: Resultados de la prueba incluyendo las proporciones y valores p.\n",
    "    \"\"\"\n",
    "    # Filtrar los datos para cada grupo\n",
    "    df_group1 = df[df['exp_id'] == group1]\n",
    "    df_group2 = df[df['exp_id'] == group2]\n",
    "    \n",
    "    # Calcular la proporción de usuarios que realizaron el evento en cada grupo\n",
    "    users_group1 = df_group1['device_id'].nunique()\n",
    "    users_group2 = df_group2['device_id'].nunique()\n",
    "    event_users_group1 = df_group1[df_group1['event_name'] == event_name]['device_id'].nunique()\n",
    "    event_users_group2 = df_group2[df_group2['event_name'] == event_name]['device_id'].nunique()\n",
    "    proportion_group1 = event_users_group1 / users_group1\n",
    "    proportion_group2 = event_users_group2 / users_group2\n",
    "    \n",
    "    # Realizar el z-test de proporciones\n",
    "    count = np.array([event_users_group1, event_users_group2])\n",
    "    nobs = np.array([users_group1, users_group2])\n",
    "    z_stat, p_value = proportions_ztest(count, nobs)\n",
    "    \n",
    "    # Devolver los resultados\n",
    "    return {\n",
    "        'event_name': event_name,\n",
    "        'proportion_group1': proportion_group1,\n",
    "        'proportion_group2': proportion_group2,\n",
    "        'z_stat': z_stat,\n",
    "        'p_value': p_value\n",
    "    }\n",
    "\n",
    "# Obtener el evento más popular\n",
    "most_popular_event = df_complete['event_name'].value_counts().idxmax()\n",
    "\n",
    "# Calcular y mostrar los resultados para el evento más popular\n",
    "result = test_event_proportion(most_popular_event, df_complete, 246, 247)\n",
    "\n",
    "# Formatear e imprimir los resultados en orden\n",
    "print(f\"Resultados para el evento más popular ({most_popular_event}):\")\n",
    "for key, value in result.items():\n",
    "    print(f\"{key}: {value}\")\n"
   ]
  },
  {
   "cell_type": "markdown",
   "metadata": {},
   "source": [
    "### Repite el procedimiento para todos los demás eventos (ahorrarás tiempo si creas una función especial para esta prueba). ¿Puedes confirmar que los grupos se dividieron correctamente?"
   ]
  },
  {
   "cell_type": "code",
   "execution_count": 26,
   "metadata": {},
   "outputs": [
    {
     "name": "stdout",
     "output_type": "stream",
     "text": [
      "Resultados de todos los eventos:\n",
      "                event_name  proportion_group1  proportion_group2    z_stat  \\\n",
      "0                 Tutorial           0.111916           0.112614 -0.078161   \n",
      "1         MainScreenAppear           0.986312           0.985277  0.309344   \n",
      "2       OffersScreenAppear           0.620773           0.604855  1.154988   \n",
      "3         CartScreenAppear           0.509662           0.492638  1.203369   \n",
      "4  PaymentScreenSuccessful           0.483092           0.460804  1.577995   \n",
      "\n",
      "    p_value  \n",
      "0  0.937700  \n",
      "1  0.757060  \n",
      "2  0.248095  \n",
      "3  0.228834  \n",
      "4  0.114567  \n"
     ]
    }
   ],
   "source": [
    "# Definir una lista para almacenar los resultados de todos los eventos\n",
    "all_event_results = []\n",
    "\n",
    "# Obtener la lista de eventos únicos\n",
    "unique_events = df_complete['event_name'].unique()\n",
    "\n",
    "# Iterar sobre todos los eventos y calcular los resultados\n",
    "for event in unique_events:\n",
    "    result = test_event_proportion(event, df_complete, 246, 247)\n",
    "    all_event_results.append(result)\n",
    "\n",
    "# Convertir los resultados a un DataFrame para una mejor visualización\n",
    "all_event_results_df = pd.DataFrame(all_event_results)\n",
    "\n",
    "# Mostrar los resultados\n",
    "print(\"Resultados de todos los eventos:\")\n",
    "print(all_event_results_df)\n"
   ]
  },
  {
   "cell_type": "markdown",
   "metadata": {},
   "source": [
    "#### Conclusión\n",
    "p-value: Para cada evento, el valor p es mayor que el nivel de significancia comúnmente utilizado (α=0.05). Esto significa que no hay evidencia suficiente para rechazar la hipótesis nula de que no hay diferencia significativa entre las proporciones de los grupos 246 y 247 para cada evento."
   ]
  },
  {
   "cell_type": "markdown",
   "metadata": {},
   "source": [
    "### Haz lo mismo para el grupo con fuentes alteradas. Compara los resultados con los de cada uno de los grupos de control para cada evento de forma aislada. Compara los resultados con los resultados combinados de los grupos de control. ¿Qué conclusiones puedes sacar del experimento?"
   ]
  },
  {
   "cell_type": "code",
   "execution_count": 27,
   "metadata": {},
   "outputs": [
    {
     "name": "stdout",
     "output_type": "stream",
     "text": [
      "Resultados de todos los eventos comparados con el grupo experimental:\n",
      "                event_name  proportion_group1  proportion_group2  \\\n",
      "0                 Tutorial           0.111916           0.112614   \n",
      "1         MainScreenAppear           0.986312           0.985277   \n",
      "2       OffersScreenAppear           0.620773           0.604855   \n",
      "3         CartScreenAppear           0.509662           0.492638   \n",
      "4  PaymentScreenSuccessful           0.483092           0.460804   \n",
      "\n",
      "   proportion_experimental  proportion_control_combined  z_stat_group1  \\\n",
      "0                 0.109972                     0.112267       0.219283   \n",
      "1                 0.982657                     0.985791       1.047276   \n",
      "2                 0.603469                     0.612768       1.258082   \n",
      "3                 0.484825                     0.501101       1.759874   \n",
      "4                 0.465510                     0.471883       1.247388   \n",
      "\n",
      "   p_value_group1  z_stat_group2  p_value_group2  z_stat_combined  \\\n",
      "0        0.826429       0.298497        0.765324         0.299102   \n",
      "1        0.294972       0.740980        0.458705         1.048854   \n",
      "2        0.208362       0.100709        0.919782         0.781930   \n",
      "3        0.078429       0.555402        0.578620         1.335359   \n",
      "4        0.212255      -0.335376        0.737342         0.523783   \n",
      "\n",
      "   p_value_combined  \n",
      "0          0.764862  \n",
      "1          0.294245  \n",
      "2          0.434255  \n",
      "3          0.181759  \n",
      "4          0.600429  \n"
     ]
    }
   ],
   "source": [
    "def test_event_proportion_multiple(event_name, df, group1, group2, group_experimental):\n",
    "    \"\"\"\n",
    "    Compara la proporción de usuarios que realizaron un evento específico entre dos grupos de control y un grupo experimental usando z-test de proporciones.\n",
    "    \n",
    "    Args:\n",
    "    event_name (str): El nombre del evento a analizar.\n",
    "    df (pd.DataFrame): El dataframe que contiene los datos.\n",
    "    group1 (int): El ID del primer grupo de control.\n",
    "    group2 (int): El ID del segundo grupo de control.\n",
    "    group_experimental (int): El ID del grupo experimental.\n",
    "    \n",
    "    Returns:\n",
    "    dict: Resultados de la prueba incluyendo las proporciones y valores p.\n",
    "    \"\"\"\n",
    "    # Filtrar los datos para cada grupo\n",
    "    df_group1 = df[df['exp_id'] == group1]\n",
    "    df_group2 = df[df['exp_id'] == group2]\n",
    "    df_experimental = df[df['exp_id'] == group_experimental]\n",
    "    \n",
    "    # Calcular la proporción de usuarios que realizaron el evento en cada grupo\n",
    "    users_group1 = df_group1['device_id'].nunique()\n",
    "    users_group2 = df_group2['device_id'].nunique()\n",
    "    users_experimental = df_experimental['device_id'].nunique()\n",
    "    event_users_group1 = df_group1[df_group1['event_name'] == event_name]['device_id'].nunique()\n",
    "    event_users_group2 = df_group2[df_group2['event_name'] == event_name]['device_id'].nunique()\n",
    "    event_users_experimental = df_experimental[df_experimental['event_name'] == event_name]['device_id'].nunique()\n",
    "    proportion_group1 = event_users_group1 / users_group1\n",
    "    proportion_group2 = event_users_group2 / users_group2\n",
    "    proportion_experimental = event_users_experimental / users_experimental\n",
    "    \n",
    "    # Combinar los grupos de control\n",
    "    df_control_combined = df[df['exp_id'].isin([group1, group2])]\n",
    "    users_control_combined = df_control_combined['device_id'].nunique()\n",
    "    event_users_control_combined = df_control_combined[df_control_combined['event_name'] == event_name]['device_id'].nunique()\n",
    "    proportion_control_combined = event_users_control_combined / users_control_combined\n",
    "    \n",
    "    # Realizar las pruebas z de proporciones\n",
    "    count_group1_exp = np.array([event_users_group1, event_users_experimental])\n",
    "    count_group2_exp = np.array([event_users_group2, event_users_experimental])\n",
    "    count_combined_exp = np.array([event_users_control_combined, event_users_experimental])\n",
    "    nobs_group1_exp = np.array([users_group1, users_experimental])\n",
    "    nobs_group2_exp = np.array([users_group2, users_experimental])\n",
    "    nobs_combined_exp = np.array([users_control_combined, users_experimental])\n",
    "\n",
    "    z_stat_group1, p_value_group1 = proportions_ztest(count_group1_exp, nobs_group1_exp)\n",
    "    z_stat_group2, p_value_group2 = proportions_ztest(count_group2_exp, nobs_group2_exp)\n",
    "    z_stat_combined, p_value_combined = proportions_ztest(count_combined_exp, nobs_combined_exp)\n",
    "    \n",
    "    # Devolver los resultados\n",
    "    return {\n",
    "        'event_name': event_name,\n",
    "        'proportion_group1': proportion_group1,\n",
    "        'proportion_group2': proportion_group2,\n",
    "        'proportion_experimental': proportion_experimental,\n",
    "        'proportion_control_combined': proportion_control_combined,\n",
    "        'z_stat_group1': z_stat_group1,\n",
    "        'p_value_group1': p_value_group1,\n",
    "        'z_stat_group2': z_stat_group2,\n",
    "        'p_value_group2': p_value_group2,\n",
    "        'z_stat_combined': z_stat_combined,\n",
    "        'p_value_combined': p_value_combined\n",
    "    }\n",
    "\n",
    "# Obtener la lista de eventos únicos\n",
    "unique_events = df_complete['event_name'].unique()\n",
    "\n",
    "# Definir una lista para almacenar los resultados de todos los eventos\n",
    "all_event_results = []\n",
    "\n",
    "# Iterar sobre todos los eventos y calcular los resultados\n",
    "for event in unique_events:\n",
    "    result = test_event_proportion_multiple(event, df_complete, 246, 247, 248)\n",
    "    all_event_results.append(result)\n",
    "\n",
    "# Convertir los resultados a un DataFrame para una mejor visualización\n",
    "all_event_results_df = pd.DataFrame(all_event_results)\n",
    "\n",
    "# Mostrar los resultados\n",
    "print(\"Resultados de todos los eventos comparados con el grupo experimental:\")\n",
    "print(all_event_results_df)\n"
   ]
  },
  {
   "cell_type": "markdown",
   "metadata": {},
   "source": [
    "### Conclusiones\n",
    "##### No hay diferencias significativas:\n",
    "\n",
    "En ninguno de los eventos analizados se encontraron diferencias estadísticamente significativas entre los grupos de control (246 y 247) y el grupo experimental (248). Los valores p son mayores que el nivel de significancia comúnmente utilizado (α=0.05), lo que indica que no podemos rechazar la hipótesis nula de que no hay diferencias entre las proporciones de usuarios que realizaron los eventos en los diferentes grupos."
   ]
  },
  {
   "cell_type": "markdown",
   "metadata": {},
   "source": [
    "### ¿Qué nivel de significación has establecido para probar las hipótesis estadísticas mencionadas anteriormente? Calcula cuántas pruebas de hipótesis estadísticas has realizado. Con un nivel de significancia estadística de 0.1, uno de cada 10 resultados podría ser falso. ¿Cuál debería ser el nivel de significación? Si deseas cambiarlo, vuelve a ejecutar los pasos anteriores y comprueba tus conclusiones."
   ]
  },
  {
   "cell_type": "code",
   "execution_count": 28,
   "metadata": {},
   "outputs": [
    {
     "name": "stdout",
     "output_type": "stream",
     "text": [
      "Resultados de todos los eventos comparados con el grupo experimental con corrección de Bonferroni:\n",
      "                event_name  proportion_group1  proportion_group2  \\\n",
      "0                 Tutorial           0.111916           0.112614   \n",
      "1         MainScreenAppear           0.986312           0.985277   \n",
      "2       OffersScreenAppear           0.620773           0.604855   \n",
      "3         CartScreenAppear           0.509662           0.492638   \n",
      "4  PaymentScreenSuccessful           0.483092           0.460804   \n",
      "\n",
      "   proportion_experimental  proportion_control_combined  z_stat_group1  \\\n",
      "0                 0.109972                     0.112267       0.219283   \n",
      "1                 0.982657                     0.985791       1.047276   \n",
      "2                 0.603469                     0.612768       1.258082   \n",
      "3                 0.484825                     0.501101       1.759874   \n",
      "4                 0.465510                     0.471883       1.247388   \n",
      "\n",
      "   p_value_group1  z_stat_group2  p_value_group2  z_stat_combined  \\\n",
      "0        0.826429       0.298497        0.765324         0.299102   \n",
      "1        0.294972       0.740980        0.458705         1.048854   \n",
      "2        0.208362       0.100709        0.919782         0.781930   \n",
      "3        0.078429       0.555402        0.578620         1.335359   \n",
      "4        0.212255      -0.335376        0.737342         0.523783   \n",
      "\n",
      "   p_value_combined  p_value_group1_corrected  p_value_group2_corrected  \\\n",
      "0          0.764862                     False                     False   \n",
      "1          0.294245                     False                     False   \n",
      "2          0.434255                     False                     False   \n",
      "3          0.181759                     False                     False   \n",
      "4          0.600429                     False                     False   \n",
      "\n",
      "   p_value_combined_corrected  \n",
      "0                       False  \n",
      "1                       False  \n",
      "2                       False  \n",
      "3                       False  \n",
      "4                       False  \n"
     ]
    }
   ],
   "source": [
    "# Nivel de significancia original y corregido\n",
    "alpha = 0.05\n",
    "number_of_tests = 15\n",
    "alpha_corr = alpha / number_of_tests\n",
    "\n",
    "# Definir una lista para almacenar los resultados de todos los eventos con corrección\n",
    "all_event_results_corrected = []\n",
    "\n",
    "# Obtener la lista de eventos únicos\n",
    "unique_events = df_complete['event_name'].unique()\n",
    "\n",
    "# Iterar sobre todos los eventos y calcular los resultados\n",
    "for event in unique_events:\n",
    "    result = test_event_proportion_multiple(event, df_complete, 246, 247, 248)\n",
    "    result['p_value_group1_corrected'] = result['p_value_group1'] < alpha_corr\n",
    "    result['p_value_group2_corrected'] = result['p_value_group2'] < alpha_corr\n",
    "    result['p_value_combined_corrected'] = result['p_value_combined'] < alpha_corr\n",
    "    all_event_results_corrected.append(result)\n",
    "\n",
    "# Convertir los resultados a un DataFrame para una mejor visualización\n",
    "all_event_results_corrected_df = pd.DataFrame(all_event_results_corrected)\n",
    "\n",
    "# Mostrar los resultados\n",
    "print(\"Resultados de todos los eventos comparados con el grupo experimental con corrección de Bonferroni:\")\n",
    "print(all_event_results_corrected_df)"
   ]
  },
  {
   "cell_type": "markdown",
   "metadata": {},
   "source": [
    "### Conclusión General\n",
    "#### Consistencia de Grupos: \n",
    "\n",
    "Los grupos de control (246 y 247) y el grupo experimental (248) no muestran diferencias significativas en ninguno de los eventos analizados.\n",
    "\n",
    "#### Impacto del Cambio de Fuente: \n",
    "\n",
    "El cambio de fuente en la aplicación no tuvo un impacto significativo en el comportamiento de los usuarios.\n",
    "\n"
   ]
  }
 ],
 "metadata": {
  "ExecuteTimeLog": [
   {
    "duration": 469,
    "start_time": "2024-05-23T16:52:35.424Z"
   },
   {
    "duration": 339,
    "start_time": "2024-05-23T16:53:00.718Z"
   },
   {
    "duration": 26,
    "start_time": "2024-05-23T16:53:07.136Z"
   },
   {
    "duration": 15,
    "start_time": "2024-05-23T16:53:17.155Z"
   },
   {
    "duration": 11,
    "start_time": "2024-05-23T16:58:49.711Z"
   },
   {
    "duration": 8,
    "start_time": "2024-05-23T16:59:01.185Z"
   },
   {
    "duration": 333,
    "start_time": "2024-05-23T17:08:30.677Z"
   },
   {
    "duration": 4,
    "start_time": "2024-05-23T17:08:36.507Z"
   },
   {
    "duration": 21,
    "start_time": "2024-05-23T17:08:40.702Z"
   },
   {
    "duration": 23,
    "start_time": "2024-05-23T17:08:48.241Z"
   },
   {
    "duration": 21,
    "start_time": "2024-05-23T17:08:51.559Z"
   },
   {
    "duration": 3,
    "start_time": "2024-05-23T17:08:53.523Z"
   },
   {
    "duration": 299,
    "start_time": "2024-05-23T17:08:54.659Z"
   },
   {
    "duration": 24,
    "start_time": "2024-05-23T17:08:55.916Z"
   },
   {
    "duration": 9,
    "start_time": "2024-05-23T17:08:57.907Z"
   },
   {
    "duration": 3,
    "start_time": "2024-05-23T17:09:00.287Z"
   },
   {
    "duration": 21,
    "start_time": "2024-05-23T17:09:01.483Z"
   },
   {
    "duration": 22,
    "start_time": "2024-05-23T17:09:09.211Z"
   },
   {
    "duration": 21,
    "start_time": "2024-05-23T17:09:11.784Z"
   },
   {
    "duration": 3,
    "start_time": "2024-05-23T17:09:13.902Z"
   },
   {
    "duration": 318,
    "start_time": "2024-05-23T17:09:14.981Z"
   },
   {
    "duration": 23,
    "start_time": "2024-05-23T17:09:16.163Z"
   },
   {
    "duration": 9,
    "start_time": "2024-05-23T17:09:18.231Z"
   },
   {
    "duration": 9,
    "start_time": "2024-05-23T17:09:23.955Z"
   },
   {
    "duration": 4,
    "start_time": "2024-05-23T17:09:27.038Z"
   },
   {
    "duration": 20,
    "start_time": "2024-05-23T17:09:28.124Z"
   },
   {
    "duration": 21,
    "start_time": "2024-05-23T17:09:59.757Z"
   },
   {
    "duration": 444,
    "start_time": "2024-05-23T17:10:05.873Z"
   },
   {
    "duration": 342,
    "start_time": "2024-05-23T17:10:06.321Z"
   },
   {
    "duration": 23,
    "start_time": "2024-05-23T17:10:06.666Z"
   },
   {
    "duration": 15,
    "start_time": "2024-05-23T17:10:06.692Z"
   },
   {
    "duration": 1126,
    "start_time": "2024-05-23T17:10:06.710Z"
   },
   {
    "duration": 0,
    "start_time": "2024-05-23T17:10:07.839Z"
   },
   {
    "duration": 35,
    "start_time": "2024-05-23T17:11:30.412Z"
   },
   {
    "duration": 33,
    "start_time": "2024-05-23T17:11:39.598Z"
   },
   {
    "duration": 22,
    "start_time": "2024-05-23T17:11:46.535Z"
   },
   {
    "duration": 16,
    "start_time": "2024-05-23T17:11:50.228Z"
   },
   {
    "duration": 175,
    "start_time": "2024-05-23T17:13:23.815Z"
   },
   {
    "duration": 24,
    "start_time": "2024-05-23T17:13:25.487Z"
   },
   {
    "duration": 10,
    "start_time": "2024-05-23T17:13:26.717Z"
   },
   {
    "duration": 4,
    "start_time": "2024-05-23T17:13:33.679Z"
   },
   {
    "duration": 15,
    "start_time": "2024-05-23T17:13:35.004Z"
   },
   {
    "duration": 11,
    "start_time": "2024-05-23T17:13:43.809Z"
   },
   {
    "duration": 18,
    "start_time": "2024-05-23T17:14:29.805Z"
   },
   {
    "duration": 16,
    "start_time": "2024-05-23T17:16:23.048Z"
   },
   {
    "duration": 13,
    "start_time": "2024-05-23T17:16:31.477Z"
   },
   {
    "duration": 46,
    "start_time": "2024-05-23T17:18:39.049Z"
   },
   {
    "duration": 11,
    "start_time": "2024-05-23T17:18:42.793Z"
   },
   {
    "duration": 219,
    "start_time": "2024-05-23T17:19:18.619Z"
   },
   {
    "duration": 13,
    "start_time": "2024-05-23T17:19:21.885Z"
   },
   {
    "duration": 21,
    "start_time": "2024-05-23T17:20:58.568Z"
   },
   {
    "duration": 22,
    "start_time": "2024-05-23T17:21:09.131Z"
   },
   {
    "duration": 21,
    "start_time": "2024-05-23T17:21:53.257Z"
   },
   {
    "duration": 13,
    "start_time": "2024-05-23T17:22:00.997Z"
   },
   {
    "duration": 35,
    "start_time": "2024-05-23T17:30:48.105Z"
   },
   {
    "duration": 54,
    "start_time": "2024-05-23T17:30:51.551Z"
   },
   {
    "duration": 422,
    "start_time": "2024-05-23T17:30:57.368Z"
   },
   {
    "duration": 181,
    "start_time": "2024-05-23T17:30:57.793Z"
   },
   {
    "duration": 25,
    "start_time": "2024-05-23T17:30:57.977Z"
   },
   {
    "duration": 5,
    "start_time": "2024-05-23T17:30:58.007Z"
   },
   {
    "duration": 18,
    "start_time": "2024-05-23T17:30:58.036Z"
   },
   {
    "duration": 18,
    "start_time": "2024-05-23T17:30:58.057Z"
   },
   {
    "duration": 84,
    "start_time": "2024-05-23T17:30:58.078Z"
   },
   {
    "duration": 11,
    "start_time": "2024-05-23T17:30:58.165Z"
   },
   {
    "duration": 246,
    "start_time": "2024-05-23T17:30:58.179Z"
   },
   {
    "duration": 14,
    "start_time": "2024-05-23T17:30:58.433Z"
   },
   {
    "duration": 338,
    "start_time": "2024-05-24T05:50:45.077Z"
   },
   {
    "duration": 470,
    "start_time": "2024-05-24T05:50:50.683Z"
   },
   {
    "duration": 240,
    "start_time": "2024-05-24T05:50:51.158Z"
   },
   {
    "duration": 43,
    "start_time": "2024-05-24T05:50:51.401Z"
   },
   {
    "duration": 14,
    "start_time": "2024-05-24T05:50:51.447Z"
   },
   {
    "duration": 19,
    "start_time": "2024-05-24T05:50:51.466Z"
   },
   {
    "duration": 50,
    "start_time": "2024-05-24T05:50:51.488Z"
   },
   {
    "duration": 48,
    "start_time": "2024-05-24T05:50:51.541Z"
   },
   {
    "duration": 11,
    "start_time": "2024-05-24T05:50:51.592Z"
   },
   {
    "duration": 264,
    "start_time": "2024-05-24T05:50:51.608Z"
   },
   {
    "duration": 13,
    "start_time": "2024-05-24T05:50:51.875Z"
   },
   {
    "duration": 69,
    "start_time": "2024-05-24T05:50:51.891Z"
   },
   {
    "duration": 12,
    "start_time": "2024-05-24T05:59:03.388Z"
   },
   {
    "duration": 5,
    "start_time": "2024-05-24T05:59:59.858Z"
   },
   {
    "duration": 5,
    "start_time": "2024-05-24T06:01:14.239Z"
   },
   {
    "duration": 5,
    "start_time": "2024-05-24T06:01:19.712Z"
   },
   {
    "duration": 472,
    "start_time": "2024-05-24T06:09:29.671Z"
   },
   {
    "duration": 199,
    "start_time": "2024-05-24T06:09:30.152Z"
   },
   {
    "duration": 28,
    "start_time": "2024-05-24T06:09:30.357Z"
   },
   {
    "duration": 5,
    "start_time": "2024-05-24T06:09:30.389Z"
   },
   {
    "duration": 51,
    "start_time": "2024-05-24T06:09:30.401Z"
   },
   {
    "duration": 25,
    "start_time": "2024-05-24T06:09:30.455Z"
   },
   {
    "duration": 70,
    "start_time": "2024-05-24T06:09:30.483Z"
   },
   {
    "duration": 13,
    "start_time": "2024-05-24T06:09:30.562Z"
   },
   {
    "duration": 235,
    "start_time": "2024-05-24T06:09:30.579Z"
   },
   {
    "duration": 14,
    "start_time": "2024-05-24T06:09:30.829Z"
   },
   {
    "duration": 39,
    "start_time": "2024-05-24T06:09:30.845Z"
   },
   {
    "duration": 11,
    "start_time": "2024-05-24T06:09:30.887Z"
   },
   {
    "duration": 8,
    "start_time": "2024-05-24T06:09:30.926Z"
   },
   {
    "duration": 10,
    "start_time": "2024-05-24T06:09:30.939Z"
   },
   {
    "duration": 4978,
    "start_time": "2024-05-24T06:10:49.536Z"
   },
   {
    "duration": 1595,
    "start_time": "2024-05-24T06:11:13.831Z"
   },
   {
    "duration": 15,
    "start_time": "2024-05-24T06:12:06.221Z"
   },
   {
    "duration": 1415,
    "start_time": "2024-05-24T06:12:15.263Z"
   },
   {
    "duration": 194,
    "start_time": "2024-05-24T06:12:16.683Z"
   },
   {
    "duration": 27,
    "start_time": "2024-05-24T06:12:16.881Z"
   },
   {
    "duration": 7,
    "start_time": "2024-05-24T06:12:16.927Z"
   },
   {
    "duration": 27,
    "start_time": "2024-05-24T06:12:16.939Z"
   },
   {
    "duration": 19,
    "start_time": "2024-05-24T06:12:16.969Z"
   },
   {
    "duration": 94,
    "start_time": "2024-05-24T06:12:16.991Z"
   },
   {
    "duration": 38,
    "start_time": "2024-05-24T06:12:17.088Z"
   },
   {
    "duration": 245,
    "start_time": "2024-05-24T06:12:17.129Z"
   },
   {
    "duration": 15,
    "start_time": "2024-05-24T06:12:17.377Z"
   },
   {
    "duration": 57,
    "start_time": "2024-05-24T06:12:17.395Z"
   },
   {
    "duration": 15,
    "start_time": "2024-05-24T06:12:17.456Z"
   },
   {
    "duration": 5,
    "start_time": "2024-05-24T06:12:17.478Z"
   },
   {
    "duration": 40,
    "start_time": "2024-05-24T06:12:17.489Z"
   },
   {
    "duration": 1644,
    "start_time": "2024-05-24T06:12:17.534Z"
   },
   {
    "duration": 1925,
    "start_time": "2024-05-24T06:13:17.880Z"
   },
   {
    "duration": 1916,
    "start_time": "2024-05-24T06:13:32.833Z"
   },
   {
    "duration": 2157,
    "start_time": "2024-05-24T06:13:40.142Z"
   },
   {
    "duration": 50,
    "start_time": "2024-05-24T06:15:26.151Z"
   },
   {
    "duration": 51,
    "start_time": "2024-05-24T06:15:27.858Z"
   },
   {
    "duration": 14,
    "start_time": "2024-05-24T06:15:35.561Z"
   },
   {
    "duration": 26,
    "start_time": "2024-05-24T06:15:38.941Z"
   },
   {
    "duration": 29,
    "start_time": "2024-05-24T06:15:40.566Z"
   },
   {
    "duration": 26,
    "start_time": "2024-05-24T06:15:42.579Z"
   },
   {
    "duration": 21,
    "start_time": "2024-05-24T06:15:49.100Z"
   },
   {
    "duration": 18,
    "start_time": "2024-05-24T06:15:50.656Z"
   },
   {
    "duration": 323,
    "start_time": "2024-05-24T06:15:52.834Z"
   },
   {
    "duration": 19,
    "start_time": "2024-05-24T06:15:55.627Z"
   },
   {
    "duration": 1434,
    "start_time": "2024-05-24T06:16:28.959Z"
   },
   {
    "duration": 253,
    "start_time": "2024-05-24T06:16:30.783Z"
   },
   {
    "duration": 38,
    "start_time": "2024-05-24T06:16:32.084Z"
   },
   {
    "duration": 4,
    "start_time": "2024-05-24T06:16:33.682Z"
   },
   {
    "duration": 26,
    "start_time": "2024-05-24T06:16:35.280Z"
   },
   {
    "duration": 17,
    "start_time": "2024-05-24T06:16:36.079Z"
   },
   {
    "duration": 15,
    "start_time": "2024-05-24T06:16:40.243Z"
   },
   {
    "duration": 12,
    "start_time": "2024-05-24T06:16:41.751Z"
   },
   {
    "duration": 262,
    "start_time": "2024-05-24T06:16:51.029Z"
   },
   {
    "duration": 17,
    "start_time": "2024-05-24T06:16:51.735Z"
   },
   {
    "duration": 48,
    "start_time": "2024-05-24T06:17:03.949Z"
   },
   {
    "duration": 11,
    "start_time": "2024-05-24T06:17:04.720Z"
   },
   {
    "duration": 6,
    "start_time": "2024-05-24T06:17:07.150Z"
   },
   {
    "duration": 8,
    "start_time": "2024-05-24T06:17:07.889Z"
   },
   {
    "duration": 1630,
    "start_time": "2024-05-24T06:17:08.743Z"
   },
   {
    "duration": 25,
    "start_time": "2024-05-24T06:21:53.464Z"
   },
   {
    "duration": 83,
    "start_time": "2024-05-24T06:23:16.556Z"
   },
   {
    "duration": 26,
    "start_time": "2024-05-24T06:23:55.744Z"
   },
   {
    "duration": 36,
    "start_time": "2024-05-24T06:23:57.439Z"
   },
   {
    "duration": 337,
    "start_time": "2024-05-24T06:24:02.205Z"
   },
   {
    "duration": 20,
    "start_time": "2024-05-24T06:24:06.053Z"
   },
   {
    "duration": 56,
    "start_time": "2024-05-24T06:24:09.954Z"
   },
   {
    "duration": 10,
    "start_time": "2024-05-24T06:24:13.460Z"
   },
   {
    "duration": 1604,
    "start_time": "2024-05-24T06:24:15.772Z"
   },
   {
    "duration": 23,
    "start_time": "2024-05-24T06:24:26.053Z"
   },
   {
    "duration": 34,
    "start_time": "2024-05-24T06:24:27.712Z"
   },
   {
    "duration": 19,
    "start_time": "2024-05-24T06:24:29.051Z"
   },
   {
    "duration": 19,
    "start_time": "2024-05-24T06:24:36.762Z"
   },
   {
    "duration": 16,
    "start_time": "2024-05-24T06:24:38.747Z"
   },
   {
    "duration": 20,
    "start_time": "2024-05-24T06:24:43.452Z"
   },
   {
    "duration": 17,
    "start_time": "2024-05-24T06:24:45.143Z"
   },
   {
    "duration": 16,
    "start_time": "2024-05-24T06:24:49.471Z"
   },
   {
    "duration": 14,
    "start_time": "2024-05-24T06:24:50.789Z"
   },
   {
    "duration": 16,
    "start_time": "2024-05-24T06:24:55.532Z"
   },
   {
    "duration": 16,
    "start_time": "2024-05-24T06:24:56.561Z"
   },
   {
    "duration": 1415,
    "start_time": "2024-05-24T06:25:03.424Z"
   },
   {
    "duration": 195,
    "start_time": "2024-05-24T06:25:04.842Z"
   },
   {
    "duration": 27,
    "start_time": "2024-05-24T06:25:05.041Z"
   },
   {
    "duration": 4,
    "start_time": "2024-05-24T06:25:05.072Z"
   },
   {
    "duration": 54,
    "start_time": "2024-05-24T06:25:05.082Z"
   },
   {
    "duration": 17,
    "start_time": "2024-05-24T06:25:05.142Z"
   },
   {
    "duration": 15,
    "start_time": "2024-05-24T06:25:05.163Z"
   },
   {
    "duration": 47,
    "start_time": "2024-05-24T06:25:05.183Z"
   },
   {
    "duration": 239,
    "start_time": "2024-05-24T06:25:05.233Z"
   },
   {
    "duration": 15,
    "start_time": "2024-05-24T06:25:05.476Z"
   },
   {
    "duration": 63,
    "start_time": "2024-05-24T06:25:05.496Z"
   },
   {
    "duration": 12,
    "start_time": "2024-05-24T06:25:05.565Z"
   },
   {
    "duration": 5,
    "start_time": "2024-05-24T06:25:05.582Z"
   },
   {
    "duration": 9,
    "start_time": "2024-05-24T06:25:05.626Z"
   },
   {
    "duration": 3138,
    "start_time": "2024-05-24T06:25:05.643Z"
   },
   {
    "duration": 1640,
    "start_time": "2024-05-24T06:26:12.360Z"
   },
   {
    "duration": 255,
    "start_time": "2024-05-24T06:26:14.011Z"
   },
   {
    "duration": 40,
    "start_time": "2024-05-24T06:26:14.273Z"
   },
   {
    "duration": 5,
    "start_time": "2024-05-24T06:26:14.330Z"
   },
   {
    "duration": 26,
    "start_time": "2024-05-24T06:26:14.340Z"
   },
   {
    "duration": 17,
    "start_time": "2024-05-24T06:26:14.370Z"
   },
   {
    "duration": 15,
    "start_time": "2024-05-24T06:26:14.427Z"
   },
   {
    "duration": 13,
    "start_time": "2024-05-24T06:26:14.446Z"
   },
   {
    "duration": 323,
    "start_time": "2024-05-24T06:26:14.462Z"
   },
   {
    "duration": 15,
    "start_time": "2024-05-24T06:26:14.791Z"
   },
   {
    "duration": 72,
    "start_time": "2024-05-24T06:26:14.810Z"
   },
   {
    "duration": 25,
    "start_time": "2024-05-24T06:26:14.888Z"
   },
   {
    "duration": 6,
    "start_time": "2024-05-24T06:26:14.928Z"
   },
   {
    "duration": 11,
    "start_time": "2024-05-24T06:26:14.939Z"
   },
   {
    "duration": 3414,
    "start_time": "2024-05-24T06:26:14.954Z"
   },
   {
    "duration": 60,
    "start_time": "2024-05-24T06:53:04.150Z"
   },
   {
    "duration": 1742,
    "start_time": "2024-05-24T06:53:29.480Z"
   },
   {
    "duration": 7,
    "start_time": "2024-05-24T06:57:58.265Z"
   },
   {
    "duration": 13,
    "start_time": "2024-05-24T07:00:02.486Z"
   },
   {
    "duration": 10,
    "start_time": "2024-05-24T07:00:15.129Z"
   },
   {
    "duration": 11,
    "start_time": "2024-05-24T07:00:18.083Z"
   },
   {
    "duration": 31,
    "start_time": "2024-05-24T07:05:51.605Z"
   },
   {
    "duration": 68,
    "start_time": "2024-05-24T07:11:16.584Z"
   },
   {
    "duration": 72,
    "start_time": "2024-05-24T07:12:06.443Z"
   },
   {
    "duration": 1531,
    "start_time": "2024-05-24T07:17:23.938Z"
   },
   {
    "duration": 117,
    "start_time": "2024-05-24T07:18:37.447Z"
   },
   {
    "duration": 7,
    "start_time": "2024-05-24T07:19:40.295Z"
   },
   {
    "duration": 106,
    "start_time": "2024-05-24T07:20:21.531Z"
   },
   {
    "duration": 17,
    "start_time": "2024-05-24T07:20:30.491Z"
   },
   {
    "duration": 71,
    "start_time": "2024-05-24T07:20:45.592Z"
   },
   {
    "duration": 84,
    "start_time": "2024-05-24T07:20:49.260Z"
   },
   {
    "duration": 16,
    "start_time": "2024-05-24T07:20:52.515Z"
   },
   {
    "duration": 16,
    "start_time": "2024-05-24T07:21:08.034Z"
   },
   {
    "duration": 14,
    "start_time": "2024-05-24T07:35:56.406Z"
   },
   {
    "duration": 15,
    "start_time": "2024-05-24T07:36:40.168Z"
   },
   {
    "duration": 14,
    "start_time": "2024-05-24T07:36:47.568Z"
   },
   {
    "duration": 15,
    "start_time": "2024-05-24T07:37:00.319Z"
   },
   {
    "duration": 11,
    "start_time": "2024-05-24T07:38:57.997Z"
   },
   {
    "duration": 7,
    "start_time": "2024-05-24T07:40:55.729Z"
   },
   {
    "duration": 7,
    "start_time": "2024-05-24T07:48:26.655Z"
   },
   {
    "duration": 9,
    "start_time": "2024-05-24T07:49:09.732Z"
   },
   {
    "duration": 1329,
    "start_time": "2024-05-24T07:55:35.305Z"
   },
   {
    "duration": 182,
    "start_time": "2024-05-24T07:55:36.637Z"
   },
   {
    "duration": 27,
    "start_time": "2024-05-24T07:55:36.822Z"
   },
   {
    "duration": 6,
    "start_time": "2024-05-24T07:55:36.852Z"
   },
   {
    "duration": 17,
    "start_time": "2024-05-24T07:55:36.863Z"
   },
   {
    "duration": 50,
    "start_time": "2024-05-24T07:55:36.883Z"
   },
   {
    "duration": 14,
    "start_time": "2024-05-24T07:55:36.936Z"
   },
   {
    "duration": 12,
    "start_time": "2024-05-24T07:55:36.953Z"
   },
   {
    "duration": 256,
    "start_time": "2024-05-24T07:55:36.968Z"
   },
   {
    "duration": 15,
    "start_time": "2024-05-24T07:55:37.227Z"
   },
   {
    "duration": 48,
    "start_time": "2024-05-24T07:55:37.245Z"
   },
   {
    "duration": 12,
    "start_time": "2024-05-24T07:55:37.325Z"
   },
   {
    "duration": 5,
    "start_time": "2024-05-24T07:55:37.340Z"
   },
   {
    "duration": 14,
    "start_time": "2024-05-24T07:55:37.354Z"
   },
   {
    "duration": 2971,
    "start_time": "2024-05-24T07:55:37.372Z"
   },
   {
    "duration": 50,
    "start_time": "2024-05-24T07:55:40.347Z"
   },
   {
    "duration": 7,
    "start_time": "2024-05-24T07:55:40.401Z"
   },
   {
    "duration": 11,
    "start_time": "2024-05-24T07:55:40.426Z"
   },
   {
    "duration": 30,
    "start_time": "2024-05-24T07:55:40.441Z"
   },
   {
    "duration": 101,
    "start_time": "2024-05-24T07:55:40.474Z"
   },
   {
    "duration": 96,
    "start_time": "2024-05-24T07:55:40.578Z"
   },
   {
    "duration": 14,
    "start_time": "2024-05-24T07:55:40.679Z"
   },
   {
    "duration": 33,
    "start_time": "2024-05-24T07:55:40.698Z"
   },
   {
    "duration": 7,
    "start_time": "2024-05-24T07:55:40.734Z"
   },
   {
    "duration": 351,
    "start_time": "2024-05-24T21:55:04.904Z"
   },
   {
    "duration": 5014,
    "start_time": "2024-05-24T21:55:12.475Z"
   },
   {
    "duration": 271,
    "start_time": "2024-05-24T21:55:17.494Z"
   },
   {
    "duration": 27,
    "start_time": "2024-05-24T21:55:17.769Z"
   },
   {
    "duration": 5,
    "start_time": "2024-05-24T21:55:17.799Z"
   },
   {
    "duration": 23,
    "start_time": "2024-05-24T21:55:17.832Z"
   },
   {
    "duration": 17,
    "start_time": "2024-05-24T21:55:17.858Z"
   },
   {
    "duration": 13,
    "start_time": "2024-05-24T21:55:17.879Z"
   },
   {
    "duration": 42,
    "start_time": "2024-05-24T21:55:17.898Z"
   },
   {
    "duration": 236,
    "start_time": "2024-05-24T21:55:17.943Z"
   },
   {
    "duration": 16,
    "start_time": "2024-05-24T21:55:18.182Z"
   },
   {
    "duration": 64,
    "start_time": "2024-05-24T21:55:18.202Z"
   },
   {
    "duration": 13,
    "start_time": "2024-05-24T21:55:18.270Z"
   },
   {
    "duration": 5,
    "start_time": "2024-05-24T21:55:18.286Z"
   },
   {
    "duration": 9,
    "start_time": "2024-05-24T21:55:18.331Z"
   },
   {
    "duration": 2896,
    "start_time": "2024-05-24T21:55:18.343Z"
   },
   {
    "duration": 47,
    "start_time": "2024-05-24T21:55:21.243Z"
   },
   {
    "duration": 7,
    "start_time": "2024-05-24T21:55:21.293Z"
   },
   {
    "duration": 32,
    "start_time": "2024-05-24T21:55:21.305Z"
   },
   {
    "duration": 29,
    "start_time": "2024-05-24T21:55:21.341Z"
   },
   {
    "duration": 112,
    "start_time": "2024-05-24T21:55:21.373Z"
   },
   {
    "duration": 17,
    "start_time": "2024-05-24T21:55:21.487Z"
   },
   {
    "duration": 28,
    "start_time": "2024-05-24T21:55:21.507Z"
   },
   {
    "duration": 7,
    "start_time": "2024-05-24T21:55:21.538Z"
   },
   {
    "duration": 8,
    "start_time": "2024-05-24T21:55:21.548Z"
   },
   {
    "duration": 76,
    "start_time": "2024-05-24T21:55:21.560Z"
   },
   {
    "duration": 35,
    "start_time": "2024-05-24T21:56:39.084Z"
   },
   {
    "duration": 4,
    "start_time": "2024-05-24T21:58:43.729Z"
   },
   {
    "duration": 51,
    "start_time": "2024-05-24T21:58:55.324Z"
   },
   {
    "duration": 93,
    "start_time": "2024-05-24T22:02:29.885Z"
   },
   {
    "duration": 90,
    "start_time": "2024-05-24T22:03:08.496Z"
   },
   {
    "duration": 322,
    "start_time": "2024-05-24T22:03:24.495Z"
   },
   {
    "duration": 4,
    "start_time": "2024-05-24T22:05:29.048Z"
   },
   {
    "duration": 749,
    "start_time": "2024-05-24T22:19:28.319Z"
   },
   {
    "duration": 818,
    "start_time": "2024-05-24T22:30:45.799Z"
   },
   {
    "duration": 5265,
    "start_time": "2024-05-27T00:21:42.970Z"
   },
   {
    "duration": 234,
    "start_time": "2024-05-27T00:21:48.243Z"
   },
   {
    "duration": 30,
    "start_time": "2024-05-27T00:21:48.481Z"
   },
   {
    "duration": 5,
    "start_time": "2024-05-27T00:21:48.515Z"
   },
   {
    "duration": 23,
    "start_time": "2024-05-27T00:21:48.526Z"
   },
   {
    "duration": 17,
    "start_time": "2024-05-27T00:21:48.552Z"
   },
   {
    "duration": 12,
    "start_time": "2024-05-27T00:21:48.609Z"
   },
   {
    "duration": 13,
    "start_time": "2024-05-27T00:21:48.624Z"
   },
   {
    "duration": 289,
    "start_time": "2024-05-27T00:21:48.640Z"
   },
   {
    "duration": 13,
    "start_time": "2024-05-27T00:21:48.937Z"
   },
   {
    "duration": 57,
    "start_time": "2024-05-27T00:21:48.954Z"
   },
   {
    "duration": 11,
    "start_time": "2024-05-27T00:21:49.015Z"
   },
   {
    "duration": 6,
    "start_time": "2024-05-27T00:21:49.029Z"
   },
   {
    "duration": 9,
    "start_time": "2024-05-27T00:21:49.045Z"
   },
   {
    "duration": 2959,
    "start_time": "2024-05-27T00:21:49.058Z"
   },
   {
    "duration": 63,
    "start_time": "2024-05-27T00:21:52.023Z"
   },
   {
    "duration": 9,
    "start_time": "2024-05-27T00:21:52.089Z"
   },
   {
    "duration": 13,
    "start_time": "2024-05-27T00:21:52.110Z"
   },
   {
    "duration": 40,
    "start_time": "2024-05-27T00:21:52.126Z"
   },
   {
    "duration": 101,
    "start_time": "2024-05-27T00:21:52.169Z"
   },
   {
    "duration": 34,
    "start_time": "2024-05-27T00:21:52.274Z"
   },
   {
    "duration": 11,
    "start_time": "2024-05-27T00:21:52.312Z"
   },
   {
    "duration": 9,
    "start_time": "2024-05-27T00:21:52.326Z"
   },
   {
    "duration": 7,
    "start_time": "2024-05-27T00:21:52.341Z"
   },
   {
    "duration": 78,
    "start_time": "2024-05-27T00:21:52.351Z"
   },
   {
    "duration": 53,
    "start_time": "2024-05-27T00:21:52.431Z"
   },
   {
    "duration": 112,
    "start_time": "2024-05-27T00:21:52.509Z"
   },
   {
    "duration": 383,
    "start_time": "2024-05-27T00:21:52.628Z"
   },
   {
    "duration": 825,
    "start_time": "2024-05-27T00:21:53.014Z"
   },
   {
    "duration": 1111,
    "start_time": "2024-05-27T00:21:53.842Z"
   },
   {
    "duration": 36,
    "start_time": "2024-05-27T00:24:22.355Z"
   },
   {
    "duration": 97,
    "start_time": "2024-05-27T00:40:42.821Z"
   },
   {
    "duration": 115,
    "start_time": "2024-05-27T00:40:45.401Z"
   },
   {
    "duration": 117,
    "start_time": "2024-05-27T00:43:03.665Z"
   },
   {
    "duration": 1377,
    "start_time": "2024-05-27T01:04:00.658Z"
   },
   {
    "duration": 607,
    "start_time": "2024-05-27T01:04:14.470Z"
   },
   {
    "duration": 113,
    "start_time": "2024-05-27T01:04:43.290Z"
   },
   {
    "duration": 1561,
    "start_time": "2024-05-27T01:06:19.303Z"
   },
   {
    "duration": 261,
    "start_time": "2024-05-27T01:06:20.869Z"
   },
   {
    "duration": 35,
    "start_time": "2024-05-27T01:06:21.133Z"
   },
   {
    "duration": 5,
    "start_time": "2024-05-27T01:06:21.172Z"
   },
   {
    "duration": 48,
    "start_time": "2024-05-27T01:06:21.184Z"
   },
   {
    "duration": 16,
    "start_time": "2024-05-27T01:06:21.235Z"
   },
   {
    "duration": 15,
    "start_time": "2024-05-27T01:06:21.254Z"
   },
   {
    "duration": 43,
    "start_time": "2024-05-27T01:06:21.272Z"
   },
   {
    "duration": 295,
    "start_time": "2024-05-27T01:06:21.318Z"
   },
   {
    "duration": 23,
    "start_time": "2024-05-27T01:06:21.620Z"
   },
   {
    "duration": 68,
    "start_time": "2024-05-27T01:06:21.646Z"
   },
   {
    "duration": 12,
    "start_time": "2024-05-27T01:06:21.717Z"
   },
   {
    "duration": 5,
    "start_time": "2024-05-27T01:06:21.732Z"
   },
   {
    "duration": 8,
    "start_time": "2024-05-27T01:06:21.745Z"
   },
   {
    "duration": 3368,
    "start_time": "2024-05-27T01:06:21.757Z"
   },
   {
    "duration": 70,
    "start_time": "2024-05-27T01:06:25.129Z"
   },
   {
    "duration": 13,
    "start_time": "2024-05-27T01:06:25.204Z"
   },
   {
    "duration": 27,
    "start_time": "2024-05-27T01:06:25.233Z"
   },
   {
    "duration": 47,
    "start_time": "2024-05-27T01:06:25.266Z"
   },
   {
    "duration": 105,
    "start_time": "2024-05-27T01:06:25.324Z"
   },
   {
    "duration": 94,
    "start_time": "2024-05-27T01:06:25.436Z"
   },
   {
    "duration": 29,
    "start_time": "2024-05-27T01:06:25.533Z"
   },
   {
    "duration": 9,
    "start_time": "2024-05-27T01:06:25.567Z"
   },
   {
    "duration": 10,
    "start_time": "2024-05-27T01:06:25.580Z"
   },
   {
    "duration": 47,
    "start_time": "2024-05-27T01:06:25.593Z"
   },
   {
    "duration": 99,
    "start_time": "2024-05-27T01:06:25.642Z"
   },
   {
    "duration": 116,
    "start_time": "2024-05-27T01:06:25.743Z"
   },
   {
    "duration": 420,
    "start_time": "2024-05-27T01:06:25.861Z"
   },
   {
    "duration": 944,
    "start_time": "2024-05-27T01:06:26.288Z"
   },
   {
    "duration": 885,
    "start_time": "2024-05-27T01:06:27.236Z"
   },
   {
    "duration": 57,
    "start_time": "2024-05-27T01:07:14.914Z"
   },
   {
    "duration": 321,
    "start_time": "2024-05-27T01:07:22.950Z"
   },
   {
    "duration": 2856,
    "start_time": "2024-05-27T01:10:25.034Z"
   },
   {
    "duration": 2897,
    "start_time": "2024-05-27T01:10:30.676Z"
   },
   {
    "duration": 1361,
    "start_time": "2024-05-27T01:10:42.576Z"
   },
   {
    "duration": 196,
    "start_time": "2024-05-27T01:10:43.941Z"
   },
   {
    "duration": 28,
    "start_time": "2024-05-27T01:10:44.140Z"
   },
   {
    "duration": 5,
    "start_time": "2024-05-27T01:10:44.172Z"
   },
   {
    "duration": 18,
    "start_time": "2024-05-27T01:10:44.208Z"
   },
   {
    "duration": 15,
    "start_time": "2024-05-27T01:10:44.229Z"
   },
   {
    "duration": 21,
    "start_time": "2024-05-27T01:10:44.249Z"
   },
   {
    "duration": 246,
    "start_time": "2024-05-27T01:10:44.310Z"
   },
   {
    "duration": 58,
    "start_time": "2024-05-27T01:10:44.560Z"
   },
   {
    "duration": 12,
    "start_time": "2024-05-27T01:10:44.621Z"
   },
   {
    "duration": 5,
    "start_time": "2024-05-27T01:10:44.637Z"
   },
   {
    "duration": 8,
    "start_time": "2024-05-27T01:10:44.645Z"
   },
   {
    "duration": 3042,
    "start_time": "2024-05-27T01:10:44.655Z"
   },
   {
    "duration": 54,
    "start_time": "2024-05-27T01:10:47.704Z"
   },
   {
    "duration": 7,
    "start_time": "2024-05-27T01:10:47.762Z"
   },
   {
    "duration": 37,
    "start_time": "2024-05-27T01:10:47.773Z"
   },
   {
    "duration": 35,
    "start_time": "2024-05-27T01:10:47.814Z"
   },
   {
    "duration": 99,
    "start_time": "2024-05-27T01:10:47.852Z"
   },
   {
    "duration": 103,
    "start_time": "2024-05-27T01:10:47.955Z"
   },
   {
    "duration": 12,
    "start_time": "2024-05-27T01:10:48.062Z"
   },
   {
    "duration": 7,
    "start_time": "2024-05-27T01:10:48.077Z"
   },
   {
    "duration": 7,
    "start_time": "2024-05-27T01:10:48.113Z"
   },
   {
    "duration": 37,
    "start_time": "2024-05-27T01:10:48.124Z"
   },
   {
    "duration": 93,
    "start_time": "2024-05-27T01:10:48.165Z"
   },
   {
    "duration": 123,
    "start_time": "2024-05-27T01:10:48.261Z"
   },
   {
    "duration": 314,
    "start_time": "2024-05-27T01:10:48.389Z"
   },
   {
    "duration": 787,
    "start_time": "2024-05-27T01:10:48.710Z"
   },
   {
    "duration": 756,
    "start_time": "2024-05-27T01:10:49.501Z"
   },
   {
    "duration": 2884,
    "start_time": "2024-05-27T01:10:52.054Z"
   },
   {
    "duration": 1409,
    "start_time": "2024-05-27T01:11:02.613Z"
   },
   {
    "duration": 187,
    "start_time": "2024-05-27T01:11:04.027Z"
   },
   {
    "duration": 26,
    "start_time": "2024-05-27T01:11:04.218Z"
   },
   {
    "duration": 4,
    "start_time": "2024-05-27T01:11:04.248Z"
   },
   {
    "duration": 18,
    "start_time": "2024-05-27T01:11:04.257Z"
   },
   {
    "duration": 17,
    "start_time": "2024-05-27T01:11:04.309Z"
   },
   {
    "duration": 20,
    "start_time": "2024-05-27T01:11:04.329Z"
   },
   {
    "duration": 284,
    "start_time": "2024-05-27T01:11:04.352Z"
   },
   {
    "duration": 41,
    "start_time": "2024-05-27T01:11:04.640Z"
   },
   {
    "duration": 34,
    "start_time": "2024-05-27T01:11:04.684Z"
   },
   {
    "duration": 7,
    "start_time": "2024-05-27T01:11:04.722Z"
   },
   {
    "duration": 10,
    "start_time": "2024-05-27T01:11:04.733Z"
   },
   {
    "duration": 3050,
    "start_time": "2024-05-27T01:11:04.747Z"
   },
   {
    "duration": 53,
    "start_time": "2024-05-27T01:11:07.804Z"
   },
   {
    "duration": 7,
    "start_time": "2024-05-27T01:11:07.860Z"
   },
   {
    "duration": 41,
    "start_time": "2024-05-27T01:11:07.872Z"
   },
   {
    "duration": 30,
    "start_time": "2024-05-27T01:11:07.916Z"
   },
   {
    "duration": 92,
    "start_time": "2024-05-27T01:11:07.949Z"
   },
   {
    "duration": 97,
    "start_time": "2024-05-27T01:11:08.044Z"
   },
   {
    "duration": 13,
    "start_time": "2024-05-27T01:11:08.145Z"
   },
   {
    "duration": 8,
    "start_time": "2024-05-27T01:11:08.165Z"
   },
   {
    "duration": 33,
    "start_time": "2024-05-27T01:11:08.177Z"
   },
   {
    "duration": 38,
    "start_time": "2024-05-27T01:11:08.214Z"
   },
   {
    "duration": 86,
    "start_time": "2024-05-27T01:11:08.255Z"
   },
   {
    "duration": 112,
    "start_time": "2024-05-27T01:11:08.345Z"
   },
   {
    "duration": 334,
    "start_time": "2024-05-27T01:11:08.460Z"
   },
   {
    "duration": 770,
    "start_time": "2024-05-27T01:11:08.799Z"
   },
   {
    "duration": 768,
    "start_time": "2024-05-27T01:11:09.572Z"
   },
   {
    "duration": 1311,
    "start_time": "2024-05-28T05:25:30.907Z"
   },
   {
    "duration": 257,
    "start_time": "2024-05-28T05:25:32.223Z"
   },
   {
    "duration": 30,
    "start_time": "2024-05-28T05:25:32.482Z"
   },
   {
    "duration": 4,
    "start_time": "2024-05-28T05:25:32.516Z"
   },
   {
    "duration": 23,
    "start_time": "2024-05-28T05:25:32.524Z"
   },
   {
    "duration": 57,
    "start_time": "2024-05-28T05:25:32.551Z"
   },
   {
    "duration": 21,
    "start_time": "2024-05-28T05:25:32.611Z"
   },
   {
    "duration": 278,
    "start_time": "2024-05-28T05:25:32.635Z"
   },
   {
    "duration": 48,
    "start_time": "2024-05-28T05:25:32.916Z"
   },
   {
    "duration": 35,
    "start_time": "2024-05-28T05:25:32.972Z"
   },
   {
    "duration": 5,
    "start_time": "2024-05-28T05:25:33.011Z"
   },
   {
    "duration": 9,
    "start_time": "2024-05-28T05:25:33.020Z"
   },
   {
    "duration": 2863,
    "start_time": "2024-05-28T05:25:33.032Z"
   },
   {
    "duration": 47,
    "start_time": "2024-05-28T05:25:35.898Z"
   },
   {
    "duration": 7,
    "start_time": "2024-05-28T05:25:35.948Z"
   },
   {
    "duration": 12,
    "start_time": "2024-05-28T05:25:35.958Z"
   },
   {
    "duration": 51,
    "start_time": "2024-05-28T05:25:35.972Z"
   },
   {
    "duration": 89,
    "start_time": "2024-05-28T05:25:36.027Z"
   },
   {
    "duration": 89,
    "start_time": "2024-05-28T05:25:36.119Z"
   },
   {
    "duration": 10,
    "start_time": "2024-05-28T05:25:36.211Z"
   },
   {
    "duration": 7,
    "start_time": "2024-05-28T05:25:36.225Z"
   },
   {
    "duration": 9,
    "start_time": "2024-05-28T05:25:36.235Z"
   },
   {
    "duration": 86,
    "start_time": "2024-05-28T05:25:36.246Z"
   },
   {
    "duration": 55,
    "start_time": "2024-05-28T05:25:36.336Z"
   },
   {
    "duration": 104,
    "start_time": "2024-05-28T05:25:36.407Z"
   },
   {
    "duration": 300,
    "start_time": "2024-05-28T05:25:36.514Z"
   },
   {
    "duration": 742,
    "start_time": "2024-05-28T05:25:36.817Z"
   },
   {
    "duration": 735,
    "start_time": "2024-05-28T05:25:37.567Z"
   },
   {
    "duration": 489,
    "start_time": "2024-05-28T05:30:13.770Z"
   },
   {
    "duration": 5,
    "start_time": "2024-05-28T05:31:36.720Z"
   },
   {
    "duration": 50,
    "start_time": "2024-05-28T05:31:42.579Z"
   },
   {
    "duration": 84,
    "start_time": "2024-05-28T05:41:30.346Z"
   },
   {
    "duration": 8,
    "start_time": "2024-05-28T05:48:06.897Z"
   },
   {
    "duration": 8,
    "start_time": "2024-05-28T05:48:18.496Z"
   },
   {
    "duration": 231,
    "start_time": "2024-05-28T05:49:20.035Z"
   },
   {
    "duration": 226,
    "start_time": "2024-05-28T05:50:48.814Z"
   },
   {
    "duration": 1257,
    "start_time": "2024-05-28T05:50:58.536Z"
   },
   {
    "duration": 194,
    "start_time": "2024-05-28T05:50:59.797Z"
   },
   {
    "duration": 29,
    "start_time": "2024-05-28T05:50:59.994Z"
   },
   {
    "duration": 3,
    "start_time": "2024-05-28T05:51:00.029Z"
   },
   {
    "duration": 17,
    "start_time": "2024-05-28T05:51:00.035Z"
   },
   {
    "duration": 13,
    "start_time": "2024-05-28T05:51:00.055Z"
   },
   {
    "duration": 21,
    "start_time": "2024-05-28T05:51:00.107Z"
   },
   {
    "duration": 261,
    "start_time": "2024-05-28T05:51:00.130Z"
   },
   {
    "duration": 52,
    "start_time": "2024-05-28T05:51:00.394Z"
   },
   {
    "duration": 10,
    "start_time": "2024-05-28T05:51:00.452Z"
   },
   {
    "duration": 5,
    "start_time": "2024-05-28T05:51:00.465Z"
   },
   {
    "duration": 7,
    "start_time": "2024-05-28T05:51:00.506Z"
   },
   {
    "duration": 2862,
    "start_time": "2024-05-28T05:51:00.517Z"
   },
   {
    "duration": 48,
    "start_time": "2024-05-28T05:51:03.382Z"
   },
   {
    "duration": 6,
    "start_time": "2024-05-28T05:51:03.433Z"
   },
   {
    "duration": 12,
    "start_time": "2024-05-28T05:51:03.442Z"
   },
   {
    "duration": 56,
    "start_time": "2024-05-28T05:51:03.457Z"
   },
   {
    "duration": 93,
    "start_time": "2024-05-28T05:51:03.518Z"
   },
   {
    "duration": 77,
    "start_time": "2024-05-28T05:51:03.613Z"
   },
   {
    "duration": 11,
    "start_time": "2024-05-28T05:51:03.707Z"
   },
   {
    "duration": 7,
    "start_time": "2024-05-28T05:51:03.721Z"
   },
   {
    "duration": 8,
    "start_time": "2024-05-28T05:51:03.731Z"
   },
   {
    "duration": 75,
    "start_time": "2024-05-28T05:51:03.743Z"
   },
   {
    "duration": 45,
    "start_time": "2024-05-28T05:51:03.821Z"
   },
   {
    "duration": 99,
    "start_time": "2024-05-28T05:51:03.869Z"
   },
   {
    "duration": 262,
    "start_time": "2024-05-28T05:51:03.970Z"
   },
   {
    "duration": 726,
    "start_time": "2024-05-28T05:51:04.235Z"
   },
   {
    "duration": 709,
    "start_time": "2024-05-28T05:51:04.968Z"
   },
   {
    "duration": 569,
    "start_time": "2024-05-28T06:14:05.303Z"
   },
   {
    "duration": 562,
    "start_time": "2024-05-28T06:25:53.172Z"
   },
   {
    "duration": 1305,
    "start_time": "2024-05-28T06:38:58.291Z"
   },
   {
    "duration": 195,
    "start_time": "2024-05-28T06:38:59.599Z"
   },
   {
    "duration": 24,
    "start_time": "2024-05-28T06:38:59.797Z"
   },
   {
    "duration": 3,
    "start_time": "2024-05-28T06:38:59.827Z"
   },
   {
    "duration": 16,
    "start_time": "2024-05-28T06:38:59.836Z"
   },
   {
    "duration": 50,
    "start_time": "2024-05-28T06:38:59.855Z"
   },
   {
    "duration": 20,
    "start_time": "2024-05-28T06:38:59.908Z"
   },
   {
    "duration": 247,
    "start_time": "2024-05-28T06:38:59.931Z"
   },
   {
    "duration": 48,
    "start_time": "2024-05-28T06:39:00.181Z"
   },
   {
    "duration": 10,
    "start_time": "2024-05-28T06:39:00.232Z"
   },
   {
    "duration": 5,
    "start_time": "2024-05-28T06:39:00.244Z"
   },
   {
    "duration": 7,
    "start_time": "2024-05-28T06:39:00.253Z"
   },
   {
    "duration": 2864,
    "start_time": "2024-05-28T06:39:00.263Z"
   },
   {
    "duration": 47,
    "start_time": "2024-05-28T06:39:03.133Z"
   },
   {
    "duration": 7,
    "start_time": "2024-05-28T06:39:03.183Z"
   },
   {
    "duration": 14,
    "start_time": "2024-05-28T06:39:03.193Z"
   },
   {
    "duration": 30,
    "start_time": "2024-05-28T06:39:03.209Z"
   },
   {
    "duration": 97,
    "start_time": "2024-05-28T06:39:03.242Z"
   },
   {
    "duration": 85,
    "start_time": "2024-05-28T06:39:03.343Z"
   },
   {
    "duration": 10,
    "start_time": "2024-05-28T06:39:03.432Z"
   },
   {
    "duration": 6,
    "start_time": "2024-05-28T06:39:03.445Z"
   },
   {
    "duration": 8,
    "start_time": "2024-05-28T06:39:03.454Z"
   },
   {
    "duration": 74,
    "start_time": "2024-05-28T06:39:03.465Z"
   },
   {
    "duration": 63,
    "start_time": "2024-05-28T06:39:03.543Z"
   },
   {
    "duration": 80,
    "start_time": "2024-05-28T06:39:03.609Z"
   },
   {
    "duration": 231,
    "start_time": "2024-05-28T06:39:03.706Z"
   },
   {
    "duration": 582,
    "start_time": "2024-05-28T06:39:03.940Z"
   },
   {
    "duration": 588,
    "start_time": "2024-05-28T06:39:04.524Z"
   }
  ],
  "kernelspec": {
   "display_name": "Python 3 (ipykernel)",
   "language": "python",
   "name": "python3"
  },
  "language_info": {
   "codemirror_mode": {
    "name": "ipython",
    "version": 3
   },
   "file_extension": ".py",
   "mimetype": "text/x-python",
   "name": "python",
   "nbconvert_exporter": "python",
   "pygments_lexer": "ipython3",
   "version": "3.9.19"
  },
  "toc": {
   "base_numbering": 1,
   "nav_menu": {},
   "number_sections": true,
   "sideBar": true,
   "skip_h1_title": true,
   "title_cell": "Table of Contents",
   "title_sidebar": "Contents",
   "toc_cell": false,
   "toc_position": {},
   "toc_section_display": true,
   "toc_window_display": false
  }
 },
 "nbformat": 4,
 "nbformat_minor": 2
}
